{
  "cells": [
    {
      "cell_type": "code",
      "execution_count": null,
      "metadata": {
        "collapsed": false
      },
      "outputs": [],
      "source": [
        "%matplotlib inline"
      ]
    },
    {
      "cell_type": "markdown",
      "metadata": {},
      "source": [
        "\n\n# Probabilities or raw scores\n\nA classifier usually returns a matrix of probabilities.\nBy default, *sklearn-onnx* creates an ONNX graph\nwhich returns probabilities but it may skip that\nstep and return raw scores if the model implements\nthe method *decision_function*. Option ``'raw_scores'``\nis used to change the default behaviour. Let's see\nthat on a simple example.\n\n## Train a model and convert it\n"
      ]
    },
    {
      "cell_type": "code",
      "execution_count": null,
      "metadata": {
        "collapsed": false
      },
      "outputs": [],
      "source": [
        "import numpy\nimport sklearn\nfrom sklearn.datasets import load_iris\nfrom sklearn.model_selection import train_test_split\nimport onnxruntime as rt\nimport onnx\nimport skl2onnx\nfrom skl2onnx.common.data_types import FloatTensorType\nfrom skl2onnx import convert_sklearn\nfrom sklearn.linear_model import LogisticRegression\n\niris = load_iris()\nX, y = iris.data, iris.target\nX_train, X_test, y_train, y_test = train_test_split(X, y)\nclr = LogisticRegression(max_iter=500)\nclr.fit(X_train, y_train)\nprint(clr)\n\ninitial_type = [('float_input', FloatTensorType([None, 4]))]\nonx = convert_sklearn(clr, initial_types=initial_type,\n                      target_opset=12)"
      ]
    },
    {
      "cell_type": "markdown",
      "metadata": {},
      "source": [
        "## Output type\n\nLet's confirm the output type of the probabilities\nis a list of dictionaries with onnxruntime.\n\n"
      ]
    },
    {
      "cell_type": "code",
      "execution_count": null,
      "metadata": {
        "collapsed": false
      },
      "outputs": [],
      "source": [
        "sess = rt.InferenceSession(onx.SerializeToString())\nres = sess.run(None, {'float_input': X_test.astype(numpy.float32)})\nprint(\"skl\", clr.predict_proba(X_test[:1]))\nprint(\"onnx\", res[1][:2])"
      ]
    },
    {
      "cell_type": "markdown",
      "metadata": {},
      "source": [
        "## Raw scores and decision_function\n\n\n"
      ]
    },
    {
      "cell_type": "code",
      "execution_count": null,
      "metadata": {
        "collapsed": false
      },
      "outputs": [],
      "source": [
        "initial_type = [('float_input', FloatTensorType([None, 4]))]\noptions = {id(clr): {'raw_scores': True}}\nonx2 = convert_sklearn(clr, initial_types=initial_type, options=options,\n                       target_opset=12)\n\nsess2 = rt.InferenceSession(onx2.SerializeToString())\nres2 = sess2.run(None, {'float_input': X_test.astype(numpy.float32)})\nprint(\"skl\", clr.decision_function(X_test[:1]))\nprint(\"onnx\", res2[1][:2])"
      ]
    },
    {
      "cell_type": "markdown",
      "metadata": {},
      "source": [
        "**Versions used for this example**\n\n"
      ]
    },
    {
      "cell_type": "code",
      "execution_count": null,
      "metadata": {
        "collapsed": false
      },
      "outputs": [],
      "source": [
        "print(\"numpy:\", numpy.__version__)\nprint(\"scikit-learn:\", sklearn.__version__)\nprint(\"onnx: \", onnx.__version__)\nprint(\"onnxruntime: \", rt.__version__)\nprint(\"skl2onnx: \", skl2onnx.__version__)"
      ]
    }
  ],
  "metadata": {
    "kernelspec": {
      "display_name": "Python 3",
      "language": "python",
      "name": "python3"
    },
    "language_info": {
      "codemirror_mode": {
        "name": "ipython",
        "version": 3
      },
      "file_extension": ".py",
      "mimetype": "text/x-python",
      "name": "python",
      "nbconvert_exporter": "python",
      "pygments_lexer": "ipython3",
      "version": "3.9.5"
    }
  },
  "nbformat": 4,
  "nbformat_minor": 0
}