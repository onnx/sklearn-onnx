{
  "cells": [
    {
      "cell_type": "code",
      "execution_count": null,
      "metadata": {
        "collapsed": false
      },
      "outputs": [],
      "source": [
        "%matplotlib inline"
      ]
    },
    {
      "cell_type": "markdown",
      "metadata": {},
      "source": [
        "\n\n# Compare CDist with scipy\n\nThe following example focuses on one particular operator,\nCDist and compares its execution time between\n*onnxruntime* and *scipy*.\n\n## ONNX Graph with CDist\n\n`cdist <https://docs.scipy.org/doc/scipy/reference/\ngenerated/scipy.spatial.distance.cdist.html>`_\nfunction computes pairwise distances.\n"
      ]
    },
    {
      "cell_type": "code",
      "execution_count": null,
      "metadata": {
        "collapsed": false
      },
      "outputs": [],
      "source": [
        "from pprint import pprint\nfrom timeit import Timer\nimport numpy as np\nfrom scipy.spatial.distance import cdist\nfrom tqdm import tqdm\nfrom pandas import DataFrame\nimport onnx\nimport onnxruntime as rt\nfrom onnxruntime import InferenceSession\nimport skl2onnx\nfrom skl2onnx.algebra.custom_ops import OnnxCDist\nfrom skl2onnx.common.data_types import FloatTensorType\n\nX = np.ones((2, 4), dtype=np.float32)\nY = np.ones((3, 4), dtype=np.float32)\nY *= 2\nprint(cdist(X, Y, metric='euclidean'))"
      ]
    },
    {
      "cell_type": "markdown",
      "metadata": {},
      "source": [
        "ONNX\n\n"
      ]
    },
    {
      "cell_type": "code",
      "execution_count": null,
      "metadata": {
        "collapsed": false
      },
      "outputs": [],
      "source": [
        "op = OnnxCDist('X', 'Y', op_version=12, output_names=['Z'],\n               metric='euclidean')\nonx = op.to_onnx({'X': X, 'Y': Y},\n                 outputs=[('Z', FloatTensorType())])\nprint(onx)"
      ]
    },
    {
      "cell_type": "markdown",
      "metadata": {},
      "source": [
        "## CDist and onnxruntime\n\nWe compute the output of CDist operator\nwith onnxruntime.\n\n"
      ]
    },
    {
      "cell_type": "code",
      "execution_count": null,
      "metadata": {
        "collapsed": false
      },
      "outputs": [],
      "source": [
        "sess = InferenceSession(onx.SerializeToString())\nres = sess.run(None, {'X': X, 'Y': Y})\nprint(res)"
      ]
    },
    {
      "cell_type": "markdown",
      "metadata": {},
      "source": [
        "## Benchmark\n\nLet's compare onnxruntime and scipy.\n\n"
      ]
    },
    {
      "cell_type": "code",
      "execution_count": null,
      "metadata": {
        "collapsed": false
      },
      "outputs": [],
      "source": [
        "def measure_time(name, stmt, context, repeat=100, number=20):\n    tim = Timer(stmt, globals=context)\n    res = np.array(\n        tim.repeat(repeat=repeat, number=number))\n    res /= number\n    mean = np.mean(res)\n    dev = np.mean(res ** 2)\n    dev = (dev - mean**2) ** 0.5\n    return dict(\n        average=mean, deviation=dev, min_exec=np.min(res),\n        max_exec=np.max(res), repeat=repeat, number=number,\n        nrows=context['X'].shape[0], ncols=context['Y'].shape[1],\n        name=name)"
      ]
    },
    {
      "cell_type": "markdown",
      "metadata": {},
      "source": [
        "scipy\n\n"
      ]
    },
    {
      "cell_type": "code",
      "execution_count": null,
      "metadata": {
        "collapsed": false
      },
      "outputs": [],
      "source": [
        "time_scipy = measure_time(\n    \"scipy\", \"cdist(X, Y)\",\n    context={'cdist': cdist, 'X': X, 'Y': Y})\npprint(time_scipy)"
      ]
    },
    {
      "cell_type": "markdown",
      "metadata": {},
      "source": [
        "onnxruntime\n\n"
      ]
    },
    {
      "cell_type": "code",
      "execution_count": null,
      "metadata": {
        "collapsed": false
      },
      "outputs": [],
      "source": [
        "time_ort = measure_time(\n    \"ort\", \"sess.run(None, {'X': X, 'Y': Y})\",\n    context={'sess': sess, 'X': X, 'Y': Y})\npprint(time_ort)"
      ]
    },
    {
      "cell_type": "markdown",
      "metadata": {},
      "source": [
        "Longer benchmark\n\n"
      ]
    },
    {
      "cell_type": "code",
      "execution_count": null,
      "metadata": {
        "collapsed": false
      },
      "outputs": [],
      "source": [
        "metrics = []\nfor dim in tqdm([10, 100, 1000, 10000]):\n    # We cannot change the number of column otherwise\n    # we need to create a new graph.\n    X = np.random.randn(dim, 4).astype(np.float32)\n    Y = np.random.randn(10, 4).astype(np.float32)\n\n    time_scipy = measure_time(\n        \"scipy\", \"cdist(X, Y)\",\n        context={'cdist': cdist, 'X': X, 'Y': Y})\n    time_ort = measure_time(\n        \"ort\", \"sess.run(None, {'X': X, 'Y': Y})\",\n        context={'sess': sess, 'X': X, 'Y': Y})\n    metric = dict(N=dim, scipy=time_scipy['average'],\n                  ort=time_ort['average'])\n    metrics.append(metric)\n\ndf = DataFrame(metrics)\ndf['scipy/ort'] = df['scipy'] / df['ort']\nprint(df)\n\ndf.plot(x='N', y=['scipy/ort'])"
      ]
    },
    {
      "cell_type": "markdown",
      "metadata": {},
      "source": [
        "**Versions used for this example**\n\n"
      ]
    },
    {
      "cell_type": "code",
      "execution_count": null,
      "metadata": {
        "collapsed": false
      },
      "outputs": [],
      "source": [
        "print(\"numpy:\", np.__version__)\nprint(\"onnx: \", onnx.__version__)\nprint(\"onnxruntime: \", rt.__version__)\nprint(\"skl2onnx: \", skl2onnx.__version__)"
      ]
    }
  ],
  "metadata": {
    "kernelspec": {
      "display_name": "Python 3",
      "language": "python",
      "name": "python3"
    },
    "language_info": {
      "codemirror_mode": {
        "name": "ipython",
        "version": 3
      },
      "file_extension": ".py",
      "mimetype": "text/x-python",
      "name": "python",
      "nbconvert_exporter": "python",
      "pygments_lexer": "ipython3",
      "version": "3.9.5"
    }
  },
  "nbformat": 4,
  "nbformat_minor": 0
}