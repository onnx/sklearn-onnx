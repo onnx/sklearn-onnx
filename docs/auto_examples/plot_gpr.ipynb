{
  "cells": [
    {
      "cell_type": "code",
      "execution_count": null,
      "metadata": {
        "collapsed": false
      },
      "outputs": [],
      "source": [
        "%matplotlib inline"
      ]
    },
    {
      "cell_type": "markdown",
      "metadata": {},
      "source": [
        "\n\n# Discrepencies with GaussianProcessorRegressor: use of double\n\nThe `GaussianProcessRegressor\n<https://scikit-learn.org/stable/modules/generated/sklearn.gaussian_process.\nGaussianProcessRegressor.html>`_ involves\nmany matrix operations which may requires double\nprecisions. *sklearn-onnx* is using single floats by default\nbut for this particular model, it is better to use double.\nLet's see how to create an ONNX file using doubles.\n\n## Train a model\n\nA very basic example using *GaussianProcessRegressor*\non the Boston dataset.\n"
      ]
    },
    {
      "cell_type": "code",
      "execution_count": null,
      "metadata": {
        "collapsed": false
      },
      "outputs": [],
      "source": [
        "import pprint\nimport numpy\nimport sklearn\nfrom sklearn.datasets import load_boston\nfrom sklearn.gaussian_process import GaussianProcessRegressor\nfrom sklearn.gaussian_process.kernels import DotProduct, RBF\nfrom sklearn.model_selection import train_test_split\nimport onnx\nimport onnxruntime as rt\nimport skl2onnx\nfrom skl2onnx.common.data_types import FloatTensorType, DoubleTensorType\nfrom skl2onnx import convert_sklearn\n\nbost = load_boston()\nX, y = bost.data, bost.target\nX_train, X_test, y_train, y_test = train_test_split(X, y)\ngpr = GaussianProcessRegressor(DotProduct() + RBF(), alpha=1.)\ngpr.fit(X_train, y_train)\nprint(gpr)"
      ]
    },
    {
      "cell_type": "markdown",
      "metadata": {},
      "source": [
        "## First attempt to convert a model into ONNX\n\nThe documentation suggests the following way to\nconvert a model into ONNX.\n\n"
      ]
    },
    {
      "cell_type": "code",
      "execution_count": null,
      "metadata": {
        "collapsed": false
      },
      "outputs": [],
      "source": [
        "initial_type = [('X', FloatTensorType([None, X_train.shape[1]]))]\nonx = convert_sklearn(gpr, initial_types=initial_type,\n                      target_opset=12)\n\nsess = rt.InferenceSession(onx.SerializeToString())\ntry:\n    pred_onx = sess.run(\n        None, {'X': X_test.astype(numpy.float32)})[0]\nexcept RuntimeError as e:\n    print(str(e))"
      ]
    },
    {
      "cell_type": "markdown",
      "metadata": {},
      "source": [
        "## Second attempt: variable dimensions\n\nUnfortunately, even though the conversion\nwent well, the runtime fails to compute the prediction.\nThe previous snippet of code imposes fixed dimension\non the input and therefore let the runtime assume\nevery node output has outputs with fixed dimensions\nAnd that's not the case for this model.\nWe need to disable these checkings by replacing\nthe fixed dimensions by an empty value.\n(see next line).\n\n"
      ]
    },
    {
      "cell_type": "code",
      "execution_count": null,
      "metadata": {
        "collapsed": false
      },
      "outputs": [],
      "source": [
        "initial_type = [('X', FloatTensorType([None, None]))]\nonx = convert_sklearn(gpr, initial_types=initial_type,\n                      target_opset=12)\n\nsess = rt.InferenceSession(onx.SerializeToString())\npred_onx = sess.run(\n    None, {'X': X_test.astype(numpy.float32)})[0]\n\npred_skl = gpr.predict(X_test)\nprint(pred_skl[:10])\nprint(pred_onx[0, :10])"
      ]
    },
    {
      "cell_type": "markdown",
      "metadata": {},
      "source": [
        "The differences seems quite important.\nLet's confirm that by looking at the biggest\ndifferences.\n\n"
      ]
    },
    {
      "cell_type": "code",
      "execution_count": null,
      "metadata": {
        "collapsed": false
      },
      "outputs": [],
      "source": [
        "diff = numpy.sort(numpy.abs(numpy.squeeze(pred_skl) -\n                            numpy.squeeze(pred_onx)))[-5:]\nprint(diff)\nprint('min(Y)-max(Y):', min(y_test), max(y_test))"
      ]
    },
    {
      "cell_type": "markdown",
      "metadata": {},
      "source": [
        "## Third attempt: use of double\n\nThe model uses a couple of matrix computations\nand matrices have coefficients with very different\norder of magnitude. It is difficult to approximate\nthe prediction made with scikit-learn if the converted\nmodel sticks to float. Double precision is needed.\n\nThe previous code requires two changes. The first\none indicates that inputs are now of type\n``DoubleTensorType``. The second change\nis the extra parameter ``dtype=numpy.float64``\ntells the conversion function that every real\nconstant matrix such as the trained coefficients\nwill be dumped as doubles and not as floats anymore.\n\n"
      ]
    },
    {
      "cell_type": "code",
      "execution_count": null,
      "metadata": {
        "collapsed": false
      },
      "outputs": [],
      "source": [
        "initial_type = [('X', DoubleTensorType([None, None]))]\nonx64 = convert_sklearn(gpr, initial_types=initial_type,\n                        target_opset=12)\n\nsess64 = rt.InferenceSession(onx64.SerializeToString())\npred_onx64 = sess64.run(None, {'X': X_test})[0]\n\nprint(pred_onx64[0, :10])"
      ]
    },
    {
      "cell_type": "markdown",
      "metadata": {},
      "source": [
        "The new differences look much better.\n\n"
      ]
    },
    {
      "cell_type": "code",
      "execution_count": null,
      "metadata": {
        "collapsed": false
      },
      "outputs": [],
      "source": [
        "diff = numpy.sort(numpy.abs(numpy.squeeze(pred_skl) -\n                            numpy.squeeze(pred_onx64)))[-5:]\nprint(diff)\nprint('min(Y)-max(Y):', min(y_test), max(y_test))"
      ]
    },
    {
      "cell_type": "markdown",
      "metadata": {},
      "source": [
        "## Size increase\n\nAs a result, the ONNX model is almost twice bigger\nbecause every coefficient is stored as double and\nand not as floats anymore.\n\n"
      ]
    },
    {
      "cell_type": "code",
      "execution_count": null,
      "metadata": {
        "collapsed": false
      },
      "outputs": [],
      "source": [
        "size32 = len(onx.SerializeToString())\nsize64 = len(onx64.SerializeToString())\nprint(\"ONNX with floats:\", size32)\nprint(\"ONNX with doubles:\", size64)"
      ]
    },
    {
      "cell_type": "markdown",
      "metadata": {},
      "source": [
        "## return_std=True\n\n`GaussianProcessRegressor <https://scikit-learn.org/stable/modules/\ngenerated/sklearn.gaussian_process.GaussianProcessRegressor.html>`_\nis one model which defined additional parameter to the predict function.\nIf call with ``return_std=True``, the class returns one more results\nand that needs to be reflected into the generated ONNX graph.\nThe converter needs to know that an extended graph is required.\nThat's done through the option mechanism\n(see `l-conv-options`).\n\n"
      ]
    },
    {
      "cell_type": "code",
      "execution_count": null,
      "metadata": {
        "collapsed": false
      },
      "outputs": [],
      "source": [
        "initial_type = [('X', DoubleTensorType([None, None]))]\noptions = {GaussianProcessRegressor: {'return_std': True}}\ntry:\n    onx64_std = convert_sklearn(gpr, initial_types=initial_type,\n                                options=options, target_opset=12)\nexcept RuntimeError as e:\n    print(e)"
      ]
    },
    {
      "cell_type": "markdown",
      "metadata": {},
      "source": [
        "This error highlights the fact that the *scikit-learn*\ncomputes internal variables on first call to method predict.\nThe converter needs them to be initialized by calling method\npredict at least once and then converting again.\n\n"
      ]
    },
    {
      "cell_type": "code",
      "execution_count": null,
      "metadata": {
        "collapsed": false
      },
      "outputs": [],
      "source": [
        "gpr.predict(X_test[:1], return_std=True)\nonx64_std = convert_sklearn(gpr, initial_types=initial_type,\n                            options=options, target_opset=12)\n\nsess64_std = rt.InferenceSession(onx64_std.SerializeToString())\npred_onx64_std = sess64_std.run(None, {'X': X_test[:5]})\n\npprint.pprint(pred_onx64_std)"
      ]
    },
    {
      "cell_type": "markdown",
      "metadata": {},
      "source": [
        "Let's compare with *scikit-learn* prediction.\n\n"
      ]
    },
    {
      "cell_type": "code",
      "execution_count": null,
      "metadata": {
        "collapsed": false
      },
      "outputs": [],
      "source": [
        "pprint.pprint(gpr.predict(X_test[:5], return_std=True))"
      ]
    },
    {
      "cell_type": "markdown",
      "metadata": {},
      "source": [
        "It looks good. Let's do a better checks.\n\n"
      ]
    },
    {
      "cell_type": "code",
      "execution_count": null,
      "metadata": {
        "collapsed": false
      },
      "outputs": [],
      "source": [
        "pred_onx64_std = sess64_std.run(None, {'X': X_test})\npred_std = gpr.predict(X_test, return_std=True)\n\n\ndiff = numpy.sort(numpy.abs(numpy.squeeze(pred_onx64_std[1]) -\n                            numpy.squeeze(pred_std[1])))[-5:]\nprint(diff)"
      ]
    },
    {
      "cell_type": "markdown",
      "metadata": {},
      "source": [
        "There are some discrepencies but it seems reasonable.\n\n**Versions used for this example**\n\n"
      ]
    },
    {
      "cell_type": "code",
      "execution_count": null,
      "metadata": {
        "collapsed": false
      },
      "outputs": [],
      "source": [
        "print(\"numpy:\", numpy.__version__)\nprint(\"scikit-learn:\", sklearn.__version__)\nprint(\"onnx: \", onnx.__version__)\nprint(\"onnxruntime: \", rt.__version__)\nprint(\"skl2onnx: \", skl2onnx.__version__)"
      ]
    }
  ],
  "metadata": {
    "kernelspec": {
      "display_name": "Python 3",
      "language": "python",
      "name": "python3"
    },
    "language_info": {
      "codemirror_mode": {
        "name": "ipython",
        "version": 3
      },
      "file_extension": ".py",
      "mimetype": "text/x-python",
      "name": "python",
      "nbconvert_exporter": "python",
      "pygments_lexer": "ipython3",
      "version": "3.9.5"
    }
  },
  "nbformat": 4,
  "nbformat_minor": 0
}