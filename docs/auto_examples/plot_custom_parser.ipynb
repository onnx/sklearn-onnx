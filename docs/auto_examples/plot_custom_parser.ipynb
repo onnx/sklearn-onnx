{
  "cells": [
    {
      "cell_type": "code",
      "execution_count": null,
      "metadata": {
        "collapsed": false
      },
      "outputs": [],
      "source": [
        "%matplotlib inline"
      ]
    },
    {
      "cell_type": "markdown",
      "metadata": {},
      "source": [
        "\n\n# When a custom model is neither a classifier nor a regressor\n\n*scikit-learn*'s API specifies that a regressor produces one\noutputs and a classifier produces two\noutputs, predicted labels and probabilities. The goal here is\nto add a third result which tells if the probability is\nabove a given threshold. That's implemented in method\n*validate*.\n\n## Iris and scoring\n\nA new class is created, it trains any classifier and implements\nthe method *validate* mentioned above.\n"
      ]
    },
    {
      "cell_type": "code",
      "execution_count": null,
      "metadata": {
        "collapsed": false
      },
      "outputs": [],
      "source": [
        "import inspect\nimport numpy as np\nimport skl2onnx\nimport onnx\nimport sklearn\nfrom sklearn.base import ClassifierMixin, BaseEstimator, clone\nfrom sklearn.datasets import load_iris\nfrom sklearn.linear_model import LogisticRegression\nfrom sklearn.model_selection import train_test_split\nfrom skl2onnx import update_registered_converter\nimport os\nfrom onnx.tools.net_drawer import GetPydotGraph, GetOpNodeProducer\nimport onnxruntime as rt\nfrom onnxconverter_common.onnx_ops import (\n    apply_identity, apply_cast, apply_greater\n)\nfrom skl2onnx import to_onnx, get_model_alias\nfrom skl2onnx.proto import onnx_proto\nfrom skl2onnx.common._registration import get_shape_calculator\nfrom skl2onnx.common.data_types import FloatTensorType, Int64TensorType\nimport matplotlib.pyplot as plt\n\n\nclass ValidatorClassifier(BaseEstimator, ClassifierMixin):\n\n    def __init__(self, estimator=None, threshold=0.75):\n        ClassifierMixin.__init__(self)\n        BaseEstimator.__init__(self)\n        if estimator is None:\n            estimator = LogisticRegression(solver='liblinear')\n        self.estimator = estimator\n        self.threshold = threshold\n\n    def fit(self, X, y, sample_weight=None):\n        sig = inspect.signature(self.estimator.fit)\n        if 'sample_weight' in sig.parameters:\n            self.estimator_ = clone(self.estimator).fit(\n                X, y, sample_weight=sample_weight)\n        else:\n            self.estimator_ = clone(self.estimator).fit(X, y)\n        return self\n\n    def predict(self, X):\n        return self.estimator_.predict(X)\n\n    def predict_proba(self, X):\n        return self.estimator_.predict_proba(X)\n\n    def validate(self, X):\n        pred = self.predict_proba(X)\n        mx = pred.max(axis=1)\n        return (mx >= self.threshold) * 1\n\n\ndata = load_iris()\nX, y = data.data, data.target\nX_train, X_test, y_train, y_test = train_test_split(X, y)\n\nmodel = ValidatorClassifier()\nmodel.fit(X_train, y_train)"
      ]
    },
    {
      "cell_type": "markdown",
      "metadata": {},
      "source": [
        "Let's now measure the indicator which tells\nif the probability of a prediction is above\na threshold.\n\n"
      ]
    },
    {
      "cell_type": "code",
      "execution_count": null,
      "metadata": {
        "collapsed": false
      },
      "outputs": [],
      "source": [
        "print(model.validate(X_test))"
      ]
    },
    {
      "cell_type": "markdown",
      "metadata": {},
      "source": [
        "## Conversion to ONNX\n\nThe conversion fails for a new model because\nthe library does not know any converter associated\nto this new model.\n\n"
      ]
    },
    {
      "cell_type": "code",
      "execution_count": null,
      "metadata": {
        "collapsed": false
      },
      "outputs": [],
      "source": [
        "try:\n    to_onnx(model, X_train[:1].astype(np.float32),\n            target_opset=12)\nexcept RuntimeError as e:\n    print(e)"
      ]
    },
    {
      "cell_type": "markdown",
      "metadata": {},
      "source": [
        "## Custom converter\n\nWe reuse some pieces of code from `l-custom-model`.\nThe shape calculator defines the shape of every output\nof the converted model.\n\n"
      ]
    },
    {
      "cell_type": "code",
      "execution_count": null,
      "metadata": {
        "collapsed": false
      },
      "outputs": [],
      "source": [
        "def validator_classifier_shape_calculator(operator):\n\n    input0 = operator.inputs[0]  # inputs in ONNX graph\n    outputs = operator.outputs  # outputs in ONNX graph\n    op = operator.raw_operator  # scikit-learn model (mmust be fitted)\n    if len(outputs) != 3:\n        raise RuntimeError(\"3 outputs expected not {}.\".format(len(outputs)))\n\n    N = input0.type.shape[0]                    # number of observations\n    C = op.estimator_.classes_.shape[0]         # dimension of outputs\n\n    outputs[0].type = Int64TensorType([N])      # label\n    outputs[1].type = FloatTensorType([N, C])   # probabilities\n    outputs[2].type = Int64TensorType([C])      # validation"
      ]
    },
    {
      "cell_type": "markdown",
      "metadata": {},
      "source": [
        "Then the converter.\n\n"
      ]
    },
    {
      "cell_type": "code",
      "execution_count": null,
      "metadata": {
        "collapsed": false
      },
      "outputs": [],
      "source": [
        "def validator_classifier_converter(scope, operator, container):\n    outputs = operator.outputs      # outputs in ONNX graph\n    op = operator.raw_operator      # scikit-learn model (mmust be fitted)\n\n    # We reuse existing converter and declare it\n    # as a local operator.\n    model = op.estimator_\n    alias = get_model_alias(type(model))\n    val_op = scope.declare_local_operator(alias, model)\n    val_op.inputs = operator.inputs\n\n    # We add an intermediate outputs.\n    val_label = scope.declare_local_variable('val_label', Int64TensorType())\n    val_prob = scope.declare_local_variable('val_prob', FloatTensorType())\n    val_op.outputs.append(val_label)\n    val_op.outputs.append(val_prob)\n\n    # We adjust the output of the submodel.\n    shape_calc = get_shape_calculator(alias)\n    shape_calc(val_op)\n\n    # We now handle the validation.\n    val_max = scope.get_unique_variable_name('val_max')\n    container.add_node('ReduceMax', val_prob.full_name, val_max,\n                       name=scope.get_unique_operator_name('ReduceMax'),\n                       axes=[1], keepdims=0)\n\n    th_name = scope.get_unique_variable_name('threshold')\n    container.add_initializer(\n        th_name, onnx_proto.TensorProto.FLOAT, [1], [op.threshold])\n    val_bin = scope.get_unique_variable_name('val_bin')\n    apply_greater(scope, [val_max, th_name], val_bin, container)\n\n    val_val = scope.get_unique_variable_name('validate')\n    apply_cast(scope, val_bin, val_val, container,\n               to=onnx_proto.TensorProto.INT64)\n\n    # We finally link the intermediate output to the shared converter.\n    apply_identity(scope, val_label.full_name, outputs[0].full_name, container)\n    apply_identity(scope, val_prob.full_name, outputs[1].full_name, container)\n    apply_identity(scope, val_val, outputs[2].full_name, container)"
      ]
    },
    {
      "cell_type": "markdown",
      "metadata": {},
      "source": [
        "Then the registration.\n\n"
      ]
    },
    {
      "cell_type": "code",
      "execution_count": null,
      "metadata": {
        "collapsed": false
      },
      "outputs": [],
      "source": [
        "update_registered_converter(ValidatorClassifier, 'CustomValidatorClassifier',\n                            validator_classifier_shape_calculator,\n                            validator_classifier_converter)"
      ]
    },
    {
      "cell_type": "markdown",
      "metadata": {},
      "source": [
        "And conversion...\n\n"
      ]
    },
    {
      "cell_type": "code",
      "execution_count": null,
      "metadata": {
        "collapsed": false
      },
      "outputs": [],
      "source": [
        "try:\n    to_onnx(model, X_test[:1].astype(np.float32),\n            target_opset=12)\nexcept RuntimeError as e:\n    print(e)"
      ]
    },
    {
      "cell_type": "markdown",
      "metadata": {},
      "source": [
        "It fails because the library expected the model\nto behave like a classifier which produces two\noutputs. We need to add a custom parser to\ntell the library this model produces three outputs.\n\n## Custom parser\n\n"
      ]
    },
    {
      "cell_type": "code",
      "execution_count": null,
      "metadata": {
        "collapsed": false
      },
      "outputs": [],
      "source": [
        "def validator_classifier_parser(scope, model, inputs, custom_parsers=None):\n    alias = get_model_alias(type(model))\n    this_operator = scope.declare_local_operator(alias, model)\n\n    # inputs\n    this_operator.inputs.append(inputs[0])\n\n    # outputs\n    val_label = scope.declare_local_variable('val_label', Int64TensorType())\n    val_prob = scope.declare_local_variable('val_prob', FloatTensorType())\n    val_val = scope.declare_local_variable('val_val', Int64TensorType())\n    this_operator.outputs.append(val_label)\n    this_operator.outputs.append(val_prob)\n    this_operator.outputs.append(val_val)\n\n    # end\n    return this_operator.outputs"
      ]
    },
    {
      "cell_type": "markdown",
      "metadata": {},
      "source": [
        "Registration.\n\n"
      ]
    },
    {
      "cell_type": "code",
      "execution_count": null,
      "metadata": {
        "collapsed": false
      },
      "outputs": [],
      "source": [
        "update_registered_converter(ValidatorClassifier, 'CustomValidatorClassifier',\n                            validator_classifier_shape_calculator,\n                            validator_classifier_converter,\n                            parser=validator_classifier_parser)"
      ]
    },
    {
      "cell_type": "markdown",
      "metadata": {},
      "source": [
        "And conversion again.\n\n"
      ]
    },
    {
      "cell_type": "code",
      "execution_count": null,
      "metadata": {
        "collapsed": false
      },
      "outputs": [],
      "source": [
        "model_onnx = to_onnx(model, X_test[:1].astype(np.float32),\n                     target_opset=12)"
      ]
    },
    {
      "cell_type": "markdown",
      "metadata": {},
      "source": [
        "## Final test\n\nWe need now to check the results are the same with ONNX.\n\n"
      ]
    },
    {
      "cell_type": "code",
      "execution_count": null,
      "metadata": {
        "collapsed": false
      },
      "outputs": [],
      "source": [
        "X32 = X_test[:5].astype(np.float32)\n\nsess = rt.InferenceSession(model_onnx.SerializeToString())\nresults = sess.run(None, {'X': X32})\n\nprint(\"--labels--\")\nprint(\"sklearn\", model.predict(X32))\nprint(\"onnx\", results[0])\nprint(\"--probabilities--\")\nprint(\"sklearn\", model.predict_proba(X32))\nprint(\"onnx\", results[1])\nprint(\"--validation--\")\nprint(\"sklearn\", model.validate(X32))\nprint(\"onnx\", results[2])"
      ]
    },
    {
      "cell_type": "markdown",
      "metadata": {},
      "source": [
        "It looks good.\n\n## Display the ONNX graph\n\n"
      ]
    },
    {
      "cell_type": "code",
      "execution_count": null,
      "metadata": {
        "collapsed": false
      },
      "outputs": [],
      "source": [
        "pydot_graph = GetPydotGraph(\n    model_onnx.graph, name=model_onnx.graph.name, rankdir=\"TB\",\n    node_producer=GetOpNodeProducer(\n        \"docstring\", color=\"yellow\", fillcolor=\"yellow\", style=\"filled\"))\npydot_graph.write_dot(\"validator_classifier.dot\")\n\nos.system('dot -O -Gdpi=300 -Tpng validator_classifier.dot')\n\nimage = plt.imread(\"validator_classifier.dot.png\")\nfig, ax = plt.subplots(figsize=(40, 20))\nax.imshow(image)\nax.axis('off')"
      ]
    },
    {
      "cell_type": "markdown",
      "metadata": {},
      "source": [
        "**Versions used for this example**\n\n"
      ]
    },
    {
      "cell_type": "code",
      "execution_count": null,
      "metadata": {
        "collapsed": false
      },
      "outputs": [],
      "source": [
        "print(\"numpy:\", np.__version__)\nprint(\"scikit-learn:\", sklearn.__version__)\nprint(\"onnx: \", onnx.__version__)\nprint(\"onnxruntime: \", rt.__version__)\nprint(\"skl2onnx: \", skl2onnx.__version__)"
      ]
    }
  ],
  "metadata": {
    "kernelspec": {
      "display_name": "Python 3",
      "language": "python",
      "name": "python3"
    },
    "language_info": {
      "codemirror_mode": {
        "name": "ipython",
        "version": 3
      },
      "file_extension": ".py",
      "mimetype": "text/x-python",
      "name": "python",
      "nbconvert_exporter": "python",
      "pygments_lexer": "ipython3",
      "version": "3.9.5"
    }
  },
  "nbformat": 4,
  "nbformat_minor": 0
}