{
  "cells": [
    {
      "cell_type": "code",
      "execution_count": null,
      "metadata": {
        "collapsed": false
      },
      "outputs": [],
      "source": [
        "%matplotlib inline"
      ]
    },
    {
      "cell_type": "markdown",
      "metadata": {},
      "source": [
        "\n# Custom Operator for NMF Decomposition\n\n`NMF <https://scikit-learn.org/stable/modules/generated/\nsklearn.decomposition.NMF.html>`_ factorizes an input matrix\ninto two matrices *W, H* of rank *k* so that $WH \\sim M$`.\n$M=(m_{ij})$ may be a binary matrix where *i* is a user\nand *j* a product he bought. The prediction\nfunction depends on whether or not the user needs a\nrecommandation for an existing user or a new user.\nThis example addresses the first case.\n\nThe second case is more complex as it theoretically\nrequires the estimation of a new matrix *W* with a\ngradient descent.\n\n## Building a simple model\n"
      ]
    },
    {
      "cell_type": "code",
      "execution_count": null,
      "metadata": {
        "collapsed": false
      },
      "outputs": [],
      "source": [
        "import os\nimport skl2onnx\nimport onnxruntime\nimport sklearn\nfrom sklearn.decomposition import NMF\nimport numpy as np\nimport matplotlib.pyplot as plt\nfrom onnx.tools.net_drawer import GetPydotGraph, GetOpNodeProducer\nimport onnx\nfrom skl2onnx.algebra.onnx_ops import (\n    OnnxArrayFeatureExtractor, OnnxMul, OnnxReduceSum)\nfrom skl2onnx.common.data_types import FloatTensorType\nfrom onnxruntime import InferenceSession\n\n\nmat = np.array([[1, 0, 0, 0], [1, 0, 0, 0], [1, 0, 0, 0],\n                [1, 0, 0, 0], [1, 0, 0, 0]], dtype=np.float64)\nmat[:mat.shape[1], :] += np.identity(mat.shape[1])\n\nmod = NMF(n_components=2)\nW = mod.fit_transform(mat)\nH = mod.components_\npred = mod.inverse_transform(W)\n\nprint(\"original predictions\")\nexp = []\nfor i in range(mat.shape[0]):\n    for j in range(mat.shape[1]):\n        exp.append((i, j, pred[i, j]))\n\nprint(exp)"
      ]
    },
    {
      "cell_type": "markdown",
      "metadata": {},
      "source": [
        "Let's rewrite the prediction in a way it is closer\nto the function we need to convert into ONNX.\n\n"
      ]
    },
    {
      "cell_type": "code",
      "execution_count": null,
      "metadata": {
        "collapsed": false
      },
      "outputs": [],
      "source": [
        "def predict(W, H, row_index, col_index):\n    return np.dot(W[row_index, :], H[:, col_index])\n\n\ngot = []\nfor i in range(mat.shape[0]):\n    for j in range(mat.shape[1]):\n        got.append((i, j, predict(W, H, i, j)))\n\nprint(got)"
      ]
    },
    {
      "cell_type": "markdown",
      "metadata": {},
      "source": [
        "## Conversion into ONNX\n\nThere is no implemented converter for\n`NMF <https://scikit-learn.org/stable/modules/generated/\nsklearn.decomposition.NMF.html>`_ as the function we plan\nto convert is not transformer or a predictor.\nThe following converter does not need to be registered,\nit just creates an ONNX graph equivalent to function\n*predict* implemented above.\n\n"
      ]
    },
    {
      "cell_type": "code",
      "execution_count": null,
      "metadata": {
        "collapsed": false
      },
      "outputs": [],
      "source": [
        "def nmf_to_onnx(W, H, op_version=12):\n    \"\"\"\n    The function converts a NMF described by matrices\n    *W*, *H* (*WH* approximate training data *M*).\n    into a function which takes two indices *(i, j)*\n    and returns the predictions for it. It assumes\n    these indices applies on the training data.\n    \"\"\"\n    col = OnnxArrayFeatureExtractor(H, 'col')\n    row = OnnxArrayFeatureExtractor(W.T, 'row')\n    dot = OnnxMul(col, row, op_version=op_version)\n    res = OnnxReduceSum(dot, output_names=\"rec\", op_version=op_version)\n    indices_type = np.array([0], dtype=np.int64)\n    onx = res.to_onnx(inputs={'col': indices_type,\n                              'row': indices_type},\n                      outputs=[('rec', FloatTensorType((None, 1)))],\n                      target_opset=op_version)\n    return onx\n\n\nmodel_onnx = nmf_to_onnx(W.astype(np.float32),\n                         H.astype(np.float32))\nprint(model_onnx)"
      ]
    },
    {
      "cell_type": "markdown",
      "metadata": {},
      "source": [
        "Let's compute prediction with it.\n\n"
      ]
    },
    {
      "cell_type": "code",
      "execution_count": null,
      "metadata": {
        "collapsed": false
      },
      "outputs": [],
      "source": [
        "sess = InferenceSession(model_onnx.SerializeToString())\n\n\ndef predict_onnx(sess, row_indices, col_indices):\n    res = sess.run(None,\n                   {'col': col_indices,\n                    'row': row_indices})\n    return res\n\n\nonnx_preds = []\nfor i in range(mat.shape[0]):\n    for j in range(mat.shape[1]):\n        row_indices = np.array([i], dtype=np.int64)\n        col_indices = np.array([j], dtype=np.int64)\n        pred = predict_onnx(sess, row_indices, col_indices)[0]\n        onnx_preds.append((i, j, pred[0, 0]))\n\nprint(onnx_preds)"
      ]
    },
    {
      "cell_type": "markdown",
      "metadata": {},
      "source": [
        "The ONNX graph looks like the following.\n\n"
      ]
    },
    {
      "cell_type": "code",
      "execution_count": null,
      "metadata": {
        "collapsed": false
      },
      "outputs": [],
      "source": [
        "pydot_graph = GetPydotGraph(\n    model_onnx.graph, name=model_onnx.graph.name,\n    rankdir=\"TB\", node_producer=GetOpNodeProducer(\"docstring\"))\npydot_graph.write_dot(\"graph_nmf.dot\")\nos.system('dot -O -Tpng graph_nmf.dot')\nimage = plt.imread(\"graph_nmf.dot.png\")\nplt.imshow(image)\nplt.axis('off')"
      ]
    },
    {
      "cell_type": "markdown",
      "metadata": {},
      "source": [
        "**Versions used for this example**\n\n"
      ]
    },
    {
      "cell_type": "code",
      "execution_count": null,
      "metadata": {
        "collapsed": false
      },
      "outputs": [],
      "source": [
        "print(\"numpy:\", np.__version__)\nprint(\"scikit-learn:\", sklearn.__version__)\nprint(\"onnx: \", onnx.__version__)\nprint(\"onnxruntime: \", onnxruntime.__version__)\nprint(\"skl2onnx: \", skl2onnx.__version__)"
      ]
    }
  ],
  "metadata": {
    "kernelspec": {
      "display_name": "Python 3",
      "language": "python",
      "name": "python3"
    },
    "language_info": {
      "codemirror_mode": {
        "name": "ipython",
        "version": 3
      },
      "file_extension": ".py",
      "mimetype": "text/x-python",
      "name": "python",
      "nbconvert_exporter": "python",
      "pygments_lexer": "ipython3",
      "version": "3.9.5"
    }
  },
  "nbformat": 4,
  "nbformat_minor": 0
}