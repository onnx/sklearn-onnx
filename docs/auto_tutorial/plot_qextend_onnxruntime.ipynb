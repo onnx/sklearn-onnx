{
  "cells": [
    {
      "cell_type": "code",
      "execution_count": null,
      "metadata": {
        "collapsed": false
      },
      "outputs": [],
      "source": [
        "%matplotlib inline"
      ]
    },
    {
      "cell_type": "markdown",
      "metadata": {},
      "source": [
        "\n# Fast runtime with onnxruntime\n\n:epkg:`ONNX operators` does not contain operator\nfrom :epkg:`numpy`. There is no operator for\n`solve <https://numpy.org/doc/stable/reference/\ngenerated/numpy.linalg.solve.html>`_ but this one\nis needed to implement the prediction function\nof model :epkg:`NMF`. The converter can be written\nincluding a new ONNX operator but then it requires a\nruntime for it to be tested. Example\n`l-extend-python-runtime` shows how to do that\nwith :epkg:`mlprodict`. Doing the same with\n:epkg:`onnxruntime` is more ambitious as it requires\nC++...\n\n*to be continued*\n"
      ]
    }
  ],
  "metadata": {
    "kernelspec": {
      "display_name": "Python 3",
      "language": "python",
      "name": "python3"
    },
    "language_info": {
      "codemirror_mode": {
        "name": "ipython",
        "version": 3
      },
      "file_extension": ".py",
      "mimetype": "text/x-python",
      "name": "python",
      "nbconvert_exporter": "python",
      "pygments_lexer": "ipython3",
      "version": "3.9.5"
    }
  },
  "nbformat": 4,
  "nbformat_minor": 0
}