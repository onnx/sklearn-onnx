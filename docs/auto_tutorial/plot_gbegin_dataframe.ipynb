{
  "cells": [
    {
      "cell_type": "code",
      "execution_count": null,
      "metadata": {
        "collapsed": false
      },
      "outputs": [],
      "source": [
        "%matplotlib inline"
      ]
    },
    {
      "cell_type": "markdown",
      "metadata": {},
      "source": [
        "\n# Dataframe as an input\n\n.. index:: dataframe\n\nA pipeline usually ingests data as a matrix. It may be converted in a matrix\nif all the data share the same type. But data held in a dataframe\nhave usually multiple types, float, integer or string for categories.\nONNX also supports that case.\n\n## A dataset with categories\n"
      ]
    },
    {
      "cell_type": "code",
      "execution_count": null,
      "metadata": {
        "collapsed": false
      },
      "outputs": [],
      "source": [
        "from mlinsights.plotting import pipeline2dot\nimport numpy\nimport pprint\nfrom mlprodict.onnx_conv import guess_schema_from_data\nfrom onnxruntime import InferenceSession\nfrom pyquickhelper.helpgen.graphviz_helper import plot_graphviz\nfrom mlprodict.onnxrt import OnnxInference\nfrom mlprodict.onnx_conv import to_onnx as to_onnx_ext\nfrom skl2onnx import to_onnx\nfrom pandas import DataFrame\nfrom sklearn.pipeline import Pipeline\nfrom sklearn.compose import ColumnTransformer\nfrom sklearn.preprocessing import OneHotEncoder\nfrom sklearn.ensemble import RandomForestClassifier\n\n\ndata = DataFrame([\n    dict(CAT1='a', CAT2='c', num1=0.5, num2=0.6, y=0),\n    dict(CAT1='b', CAT2='d', num1=0.4, num2=0.8, y=1),\n    dict(CAT1='a', CAT2='d', num1=0.5, num2=0.56, y=0),\n    dict(CAT1='a', CAT2='d', num1=0.55, num2=0.56, y=1),\n    dict(CAT1='a', CAT2='c', num1=0.35, num2=0.86, y=0),\n    dict(CAT1='a', CAT2='c', num1=0.5, num2=0.68, y=1),\n])\n\ncat_cols = ['CAT1', 'CAT2']\ntrain_data = data.drop('y', axis=1)\n\n\ncategorical_transformer = Pipeline([\n    ('onehot', OneHotEncoder(sparse=False, handle_unknown='ignore'))])\npreprocessor = ColumnTransformer(\n    transformers=[\n        ('cat', categorical_transformer, cat_cols)],\n    remainder='passthrough')\npipe = Pipeline([('preprocess', preprocessor),\n                 ('rf', RandomForestClassifier())])\npipe.fit(train_data, data['y'])"
      ]
    },
    {
      "cell_type": "markdown",
      "metadata": {},
      "source": [
        "Display.\n\n"
      ]
    },
    {
      "cell_type": "code",
      "execution_count": null,
      "metadata": {
        "collapsed": false
      },
      "outputs": [],
      "source": [
        "dot = pipeline2dot(pipe, train_data)\nax = plot_graphviz(dot)\nax.get_xaxis().set_visible(False)\nax.get_yaxis().set_visible(False)"
      ]
    },
    {
      "cell_type": "markdown",
      "metadata": {},
      "source": [
        "## Conversion to ONNX\n\nFunction *to_onnx* does not handle dataframes.\n\n"
      ]
    },
    {
      "cell_type": "code",
      "execution_count": null,
      "metadata": {
        "collapsed": false
      },
      "outputs": [],
      "source": [
        "try:\n    onx = to_onnx(pipe, train_data[:1])\nexcept NotImplementedError as e:\n    print(e)"
      ]
    },
    {
      "cell_type": "markdown",
      "metadata": {},
      "source": [
        "But it possible to use an extended one.\n\n"
      ]
    },
    {
      "cell_type": "code",
      "execution_count": null,
      "metadata": {
        "collapsed": false
      },
      "outputs": [],
      "source": [
        "onx = to_onnx_ext(\n    pipe, train_data[:1],\n    options={RandomForestClassifier: {'zipmap': False}})"
      ]
    },
    {
      "cell_type": "markdown",
      "metadata": {},
      "source": [
        "## Graph\n\n"
      ]
    },
    {
      "cell_type": "code",
      "execution_count": null,
      "metadata": {
        "collapsed": false
      },
      "outputs": [],
      "source": [
        "oinf = OnnxInference(onx)\nax = plot_graphviz(oinf.to_dot())\nax.get_xaxis().set_visible(False)\nax.get_yaxis().set_visible(False)"
      ]
    },
    {
      "cell_type": "markdown",
      "metadata": {},
      "source": [
        "## Prediction with ONNX\n\n*onnxruntime* does not support dataframes.\n\n"
      ]
    },
    {
      "cell_type": "code",
      "execution_count": null,
      "metadata": {
        "collapsed": false
      },
      "outputs": [],
      "source": [
        "sess = InferenceSession(onx.SerializeToString())\ntry:\n    sess.run(None, train_data)\nexcept Exception as e:\n    print(e)"
      ]
    },
    {
      "cell_type": "markdown",
      "metadata": {},
      "source": [
        "Let's use a shortcut\n\n"
      ]
    },
    {
      "cell_type": "code",
      "execution_count": null,
      "metadata": {
        "collapsed": false
      },
      "outputs": [],
      "source": [
        "oinf = OnnxInference(onx)\ngot = oinf.run(train_data)\nprint(pipe.predict(train_data))\nprint(got['label'])"
      ]
    },
    {
      "cell_type": "markdown",
      "metadata": {},
      "source": [
        "And probilities.\n\n"
      ]
    },
    {
      "cell_type": "code",
      "execution_count": null,
      "metadata": {
        "collapsed": false
      },
      "outputs": [],
      "source": [
        "print(pipe.predict_proba(train_data))\nprint(got['probabilities'])"
      ]
    },
    {
      "cell_type": "markdown",
      "metadata": {},
      "source": [
        "It looks ok. Let's dig into the details to\ndirectly use *onnxruntime*.\n\n## Unhide conversion logic with a dataframe\n\nA dataframe can be seen as a set of columns with\ndifferent types. That's what ONNX should see:\na list of inputs, the input name is the column name,\nthe input type is the column type.\n\n"
      ]
    },
    {
      "cell_type": "code",
      "execution_count": null,
      "metadata": {
        "collapsed": false
      },
      "outputs": [],
      "source": [
        "init = guess_schema_from_data(train_data)\n\npprint.pprint(init)"
      ]
    },
    {
      "cell_type": "markdown",
      "metadata": {},
      "source": [
        "Let's use float instead.\n\n"
      ]
    },
    {
      "cell_type": "code",
      "execution_count": null,
      "metadata": {
        "collapsed": false
      },
      "outputs": [],
      "source": [
        "for c in train_data.columns:\n    if c not in cat_cols:\n        train_data[c] = train_data[c].astype(numpy.float32)\n\ninit = guess_schema_from_data(train_data)\npprint.pprint(init)"
      ]
    },
    {
      "cell_type": "markdown",
      "metadata": {},
      "source": [
        "Let's convert with *skl2onnx* only.\n\n"
      ]
    },
    {
      "cell_type": "code",
      "execution_count": null,
      "metadata": {
        "collapsed": false
      },
      "outputs": [],
      "source": [
        "onx2 = to_onnx(\n    pipe, initial_types=init,\n    options={RandomForestClassifier: {'zipmap': False}})"
      ]
    },
    {
      "cell_type": "markdown",
      "metadata": {},
      "source": [
        "Let's run it with onnxruntime.\nWe need to convert the dataframe into a dictionary\nwhere column names become keys, and column values become\nvalues.\n\n"
      ]
    },
    {
      "cell_type": "code",
      "execution_count": null,
      "metadata": {
        "collapsed": false
      },
      "outputs": [],
      "source": [
        "inputs = {c: train_data[c].values.reshape((-1, 1))\n          for c in train_data.columns}\npprint.pprint(inputs)"
      ]
    },
    {
      "cell_type": "markdown",
      "metadata": {},
      "source": [
        "Inference.\n\n"
      ]
    },
    {
      "cell_type": "code",
      "execution_count": null,
      "metadata": {
        "collapsed": false
      },
      "outputs": [],
      "source": [
        "sess2 = InferenceSession(onx2.SerializeToString())\n\ngot2 = sess2.run(None, inputs)\n\nprint(pipe.predict(train_data))\nprint(got2[0])"
      ]
    },
    {
      "cell_type": "markdown",
      "metadata": {},
      "source": [
        "And probilities.\n\n"
      ]
    },
    {
      "cell_type": "code",
      "execution_count": null,
      "metadata": {
        "collapsed": false
      },
      "outputs": [],
      "source": [
        "print(pipe.predict_proba(train_data))\nprint(got2[1])"
      ]
    }
  ],
  "metadata": {
    "kernelspec": {
      "display_name": "Python 3",
      "language": "python",
      "name": "python3"
    },
    "language_info": {
      "codemirror_mode": {
        "name": "ipython",
        "version": 3
      },
      "file_extension": ".py",
      "mimetype": "text/x-python",
      "name": "python",
      "nbconvert_exporter": "python",
      "pygments_lexer": "ipython3",
      "version": "3.9.5"
    }
  },
  "nbformat": 4,
  "nbformat_minor": 0
}