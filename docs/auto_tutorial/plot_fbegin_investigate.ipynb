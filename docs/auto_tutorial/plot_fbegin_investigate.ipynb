{
  "cells": [
    {
      "cell_type": "code",
      "execution_count": null,
      "metadata": {
        "collapsed": false
      },
      "outputs": [],
      "source": [
        "%matplotlib inline"
      ]
    },
    {
      "cell_type": "markdown",
      "metadata": {},
      "source": [
        "\n# Intermediate results and investigation\n\n.. index:: investigate, intermediate results\n\nThere are many reasons why a user wants more than using\nthe converted model into ONNX. Intermediate results may be\nneeded, the output of every node in the graph. The ONNX\nmay need to be altered to remove some nodes.\nTransfer learning is usually removing the last layers of\na deep neural network. Another reaason is debugging.\nIt often happens that the runtime fails to compute the predictions\ndue to a shape mismatch. Then it is useful the get the shape\nof every intermediate result. This example looks into two\nways of doing it.\n\n## Look into pipeline steps\n\nThe first way is a tricky one: it overloads\nmethods *transform*, *predict* and *predict_proba*\nto keep a copy of inputs and outputs. It then goes\nthrough every step of the pipeline. If the pipeline\nhas *n* steps, it converts the pipeline with step 1,\nthen the pipeline with steps 1, 2, then 1, 2, 3...\n"
      ]
    },
    {
      "cell_type": "code",
      "execution_count": null,
      "metadata": {
        "collapsed": false
      },
      "outputs": [],
      "source": [
        "from pyquickhelper.helpgen.graphviz_helper import plot_graphviz\nfrom mlprodict.onnxrt import OnnxInference\nimport numpy\nfrom onnxruntime import InferenceSession\nfrom sklearn.pipeline import Pipeline\nfrom sklearn.preprocessing import StandardScaler\nfrom sklearn.cluster import KMeans\nfrom sklearn.datasets import load_iris\nfrom skl2onnx import to_onnx\nfrom skl2onnx.helpers import collect_intermediate_steps\nfrom skl2onnx.common.data_types import FloatTensorType"
      ]
    },
    {
      "cell_type": "markdown",
      "metadata": {},
      "source": [
        "The pipeline.\n\n"
      ]
    },
    {
      "cell_type": "code",
      "execution_count": null,
      "metadata": {
        "collapsed": false
      },
      "outputs": [],
      "source": [
        "data = load_iris()\nX = data.data\n\npipe = Pipeline(steps=[\n    ('std', StandardScaler()),\n    ('km', KMeans(3))\n])\npipe.fit(X)"
      ]
    },
    {
      "cell_type": "markdown",
      "metadata": {},
      "source": [
        "The function goes through every step,\noverloads the methods *transform* and\nreturns an ONNX graph for every step.\n\n"
      ]
    },
    {
      "cell_type": "code",
      "execution_count": null,
      "metadata": {
        "collapsed": false
      },
      "outputs": [],
      "source": [
        "steps = collect_intermediate_steps(\n    pipe, \"pipeline\",\n    [(\"X\", FloatTensorType([None, X.shape[1]]))])"
      ]
    },
    {
      "cell_type": "markdown",
      "metadata": {},
      "source": [
        "We call method transform to population the\ncache the overloaded methods *transform* keeps.\n\n"
      ]
    },
    {
      "cell_type": "code",
      "execution_count": null,
      "metadata": {
        "collapsed": false
      },
      "outputs": [],
      "source": [
        "pipe.transform(X)"
      ]
    },
    {
      "cell_type": "markdown",
      "metadata": {},
      "source": [
        "We compute every step and compare\nONNX and scikit-learn outputs.\n\n"
      ]
    },
    {
      "cell_type": "code",
      "execution_count": null,
      "metadata": {
        "collapsed": false
      },
      "outputs": [],
      "source": [
        "for step in steps:\n    print('----------------------------')\n    print(step['model'])\n    onnx_step = step['onnx_step']\n    sess = InferenceSession(onnx_step.SerializeToString())\n    onnx_outputs = sess.run(None, {'X': X.astype(numpy.float32)})\n    onnx_output = onnx_outputs[-1]\n    skl_outputs = step['model']._debug.outputs['transform']\n\n    # comparison\n    diff = numpy.abs(skl_outputs.ravel() - onnx_output.ravel()).max()\n    print(\"difference\", diff)\n\n# That was the first way: dynamically overwrite\n# every method transform or predict in a scikit-learn\n# pipeline to capture the input and output of every step,\n# compare them to the output produced by truncated ONNX\n# graphs built from the first one.\n#"
      ]
    },
    {
      "cell_type": "markdown",
      "metadata": {},
      "source": [
        "## Python runtime to look into every node\n\nThe python runtime may be useful to easily look\ninto every node of the ONNX graph.\nThis option can be used to check when the computation\nfails due to nan values or a dimension mismatch.\n\n"
      ]
    },
    {
      "cell_type": "code",
      "execution_count": null,
      "metadata": {
        "collapsed": false
      },
      "outputs": [],
      "source": [
        "onx = to_onnx(pipe, X[:1].astype(numpy.float32))\n\noinf = OnnxInference(onx)\noinf.run({'X': X[:2].astype(numpy.float32)},\n         verbose=1, fLOG=print)"
      ]
    },
    {
      "cell_type": "markdown",
      "metadata": {},
      "source": [
        "And to get a sense of the intermediate results.\n\n"
      ]
    },
    {
      "cell_type": "code",
      "execution_count": null,
      "metadata": {
        "collapsed": false
      },
      "outputs": [],
      "source": [
        "oinf.run({'X': X[:2].astype(numpy.float32)},\n         verbose=3, fLOG=print)\n\n# This way is usually better if you need to investigate\n# issues within the code of the runtime for an operator.\n#"
      ]
    },
    {
      "cell_type": "markdown",
      "metadata": {},
      "source": [
        "## Final graph\n\n"
      ]
    },
    {
      "cell_type": "code",
      "execution_count": null,
      "metadata": {
        "collapsed": false
      },
      "outputs": [],
      "source": [
        "ax = plot_graphviz(oinf.to_dot())\nax.get_xaxis().set_visible(False)\nax.get_yaxis().set_visible(False)"
      ]
    }
  ],
  "metadata": {
    "kernelspec": {
      "display_name": "Python 3",
      "language": "python",
      "name": "python3"
    },
    "language_info": {
      "codemirror_mode": {
        "name": "ipython",
        "version": 3
      },
      "file_extension": ".py",
      "mimetype": "text/x-python",
      "name": "python",
      "nbconvert_exporter": "python",
      "pygments_lexer": "ipython3",
      "version": "3.9.5"
    }
  },
  "nbformat": 4,
  "nbformat_minor": 0
}