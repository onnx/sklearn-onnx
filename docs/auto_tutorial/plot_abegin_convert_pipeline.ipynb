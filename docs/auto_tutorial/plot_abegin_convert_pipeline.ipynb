{
  "cells": [
    {
      "cell_type": "code",
      "execution_count": null,
      "metadata": {
        "collapsed": false
      },
      "outputs": [],
      "source": [
        "%matplotlib inline"
      ]
    },
    {
      "cell_type": "markdown",
      "metadata": {},
      "source": [
        "\n\n# Train and deploy a scikit-learn pipeline\n\n.. index:: pipeline, deployment\n\nThis program starts from an example in :epkg:`scikit-learn`\ndocumentation: `Plot individual and voting regression predictions\n<https://scikit-learn.org/stable/auto_examples/ensemble/plot_voting_regressor.html>`_,\nconverts it into ONNX and finally computes the predictions\na different runtime.\n\n\n## Training a pipeline\n"
      ]
    },
    {
      "cell_type": "code",
      "execution_count": null,
      "metadata": {
        "collapsed": false
      },
      "outputs": [],
      "source": [
        "from pyquickhelper.helpgen.graphviz_helper import plot_graphviz\nimport numpy\nfrom onnxruntime import InferenceSession\nfrom sklearn.datasets import load_diabetes\nfrom sklearn.ensemble import (\n    GradientBoostingRegressor, RandomForestRegressor,\n    VotingRegressor)\nfrom sklearn.linear_model import LinearRegression\nfrom sklearn.model_selection import train_test_split\nfrom sklearn.pipeline import Pipeline\nfrom skl2onnx import to_onnx\nfrom mlprodict.onnxrt import OnnxInference\n\n\nX, y = load_diabetes(return_X_y=True)\nX_train, X_test, y_train, y_test = train_test_split(X, y)\n\n# Train classifiers\nreg1 = GradientBoostingRegressor(random_state=1)\nreg2 = RandomForestRegressor(random_state=1)\nreg3 = LinearRegression()\n\nereg = Pipeline(steps=[\n    ('voting', VotingRegressor([('gb', reg1), ('rf', reg2), ('lr', reg3)])),\n])\nereg.fit(X_train, y_train)"
      ]
    },
    {
      "cell_type": "markdown",
      "metadata": {},
      "source": [
        "## Converts the model\n\nThe second argument gives a sample of the data\nused to train the model. It is used to infer\nthe input type of the ONNX graph. It is converted\ninto single float and ONNX runtimes may not fully\nsupport doubles.\n\n"
      ]
    },
    {
      "cell_type": "code",
      "execution_count": null,
      "metadata": {
        "collapsed": false
      },
      "outputs": [],
      "source": [
        "onx = to_onnx(ereg, X_train[:1].astype(numpy.float32),\n              target_opset=12)"
      ]
    },
    {
      "cell_type": "markdown",
      "metadata": {},
      "source": [
        "## Prediction with ONNX\n\nThe first example uses :epkg:`onnxruntime`.\n\n"
      ]
    },
    {
      "cell_type": "code",
      "execution_count": null,
      "metadata": {
        "collapsed": false
      },
      "outputs": [],
      "source": [
        "sess = InferenceSession(onx.SerializeToString())\npred_ort = sess.run(None, {'X': X_test.astype(numpy.float32)})[0]\n\npred_skl = ereg.predict(X_test.astype(numpy.float32))\n\npred_ort[:5], pred_skl[:5]"
      ]
    },
    {
      "cell_type": "markdown",
      "metadata": {},
      "source": [
        "\n## Comparison\n\nBefore deploying, we need to compare that both\n*scikit-learn* and *ONNX* return the same predictions.\n\n"
      ]
    },
    {
      "cell_type": "code",
      "execution_count": null,
      "metadata": {
        "collapsed": false
      },
      "outputs": [],
      "source": [
        "def diff(p1, p2):\n    p1 = p1.ravel()\n    p2 = p2.ravel()\n    d = numpy.abs(p2 - p1)\n    return d.max(), (d / numpy.abs(p1)).max()\n\n\nprint(diff(pred_skl, pred_ort))"
      ]
    },
    {
      "cell_type": "markdown",
      "metadata": {},
      "source": [
        "It looks good. Biggest errors (absolute and relative)\nare within the margin error introduced by using\nfloats instead of doubles.\nWe can save the model into ONNX\nformat and compute the same predictions in many\nplatform using :epkg:`onnxruntime`.\n\n"
      ]
    },
    {
      "cell_type": "markdown",
      "metadata": {},
      "source": [
        "## Python runtime\n\nA python runtime can be used as well to compute\nthe prediction. It is not meant to be used into\nproduction (it still relies on python), but it is\nuseful to investigate why the conversion went wrong.\nIt uses module :epkg:`mlprodict`.\n\n"
      ]
    },
    {
      "cell_type": "code",
      "execution_count": null,
      "metadata": {
        "collapsed": false
      },
      "outputs": [],
      "source": [
        "oinf = OnnxInference(onx, runtime=\"python_compiled\")\nprint(oinf)"
      ]
    },
    {
      "cell_type": "markdown",
      "metadata": {},
      "source": [
        "It works almost the same way.\n\n"
      ]
    },
    {
      "cell_type": "code",
      "execution_count": null,
      "metadata": {
        "collapsed": false
      },
      "outputs": [],
      "source": [
        "pred_pyrt = oinf.run({'X': X_test.astype(numpy.float32)})['variable']\nprint(diff(pred_skl, pred_pyrt))"
      ]
    },
    {
      "cell_type": "markdown",
      "metadata": {},
      "source": [
        "## Final graph\n\n"
      ]
    },
    {
      "cell_type": "code",
      "execution_count": null,
      "metadata": {
        "collapsed": false
      },
      "outputs": [],
      "source": [
        "ax = plot_graphviz(oinf.to_dot())\nax.get_xaxis().set_visible(False)\nax.get_yaxis().set_visible(False)"
      ]
    }
  ],
  "metadata": {
    "kernelspec": {
      "display_name": "Python 3",
      "language": "python",
      "name": "python3"
    },
    "language_info": {
      "codemirror_mode": {
        "name": "ipython",
        "version": 3
      },
      "file_extension": ".py",
      "mimetype": "text/x-python",
      "name": "python",
      "nbconvert_exporter": "python",
      "pygments_lexer": "ipython3",
      "version": "3.9.5"
    }
  },
  "nbformat": 4,
  "nbformat_minor": 0
}