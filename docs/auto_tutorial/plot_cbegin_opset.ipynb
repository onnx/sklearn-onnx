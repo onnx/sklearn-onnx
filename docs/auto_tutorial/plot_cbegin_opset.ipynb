{
  "cells": [
    {
      "cell_type": "code",
      "execution_count": null,
      "metadata": {
        "collapsed": false
      },
      "outputs": [],
      "source": [
        "%matplotlib inline"
      ]
    },
    {
      "cell_type": "markdown",
      "metadata": {},
      "source": [
        "\n# What is the opset number?\n\n.. index:: opset, target opset, version\n\nEvery library is versioned. :epkg:`scikit-learn` may change\nthe implementation of a specific model. That happens\nfor example with the `SVC <https://scikit-learn.org/stable/\nmodules/generated/sklearn.svm.SVC.html>`_ model where\nthe parameter *break_ties* was added in 0.22. :epkg:`ONNX`\ndoes also have a version called *opset number*.\nOperator *ArgMin* was added in opset 1 and changed in opset\n11, 12, 13. Sometimes, it is updated to extend the list\nof types it supports, sometimes, it moves a parameter\ninto the input list. The runtime used to deploy the model\ndoes not implement a new version, in that case, a model\nmust be converted by usually using the most recent opset\nsupported by the runtime, we call that opset the\n*targeted opset*. An ONNX graph only contains\none unique opset, every node must be described following\nthe specifications defined by the latest opset below the\ntargeted opset.\n\nThis example considers an `IsolationForest\n<https://scikit-learn.org/stable/modules/generated/\nsklearn.ensemble.IsolationForest.html>`_ and digs into opsets.\n\n## Data\n\nA simple example.\n"
      ]
    },
    {
      "cell_type": "code",
      "execution_count": null,
      "metadata": {
        "collapsed": false
      },
      "outputs": [],
      "source": [
        "from onnx.defs import onnx_opset_version\nfrom skl2onnx import to_onnx\nimport numpy\nimport matplotlib.pyplot as plt\nfrom sklearn.ensemble import IsolationForest\nfrom sklearn.datasets import make_blobs\n\nX, y = make_blobs(n_samples=100, n_features=2)\n\nmodel = IsolationForest(n_estimators=3)\nmodel.fit(X)\nlabels = model.predict(X)\n\nfig, ax = plt.subplots(1, 1)\nfor k in (0, 1):\n    ax.plot(X[labels == k, 0], X[labels == k, 1], 'o', label=\"cl%d\" % k)\nax.set_title(\"Sample\")"
      ]
    },
    {
      "cell_type": "markdown",
      "metadata": {},
      "source": [
        "## ONNX\n\n"
      ]
    },
    {
      "cell_type": "code",
      "execution_count": null,
      "metadata": {
        "collapsed": false
      },
      "outputs": [],
      "source": [
        "onx = to_onnx(model, X[:1].astype(numpy.float32))\nprint(onx)"
      ]
    },
    {
      "cell_type": "markdown",
      "metadata": {},
      "source": [
        "The last line shows the opsets.\nLet's extract it.\n\n"
      ]
    },
    {
      "cell_type": "code",
      "execution_count": null,
      "metadata": {
        "collapsed": false
      },
      "outputs": [],
      "source": [
        "domains = onx.opset_import\nfor dom in domains:\n    print(\"domain: %r, version: %r\" % (dom.domain, dom.version))"
      ]
    },
    {
      "cell_type": "markdown",
      "metadata": {},
      "source": [
        "There are two opsets, one for standard operators,\nthe other for machine learning operators.\n\n"
      ]
    },
    {
      "cell_type": "markdown",
      "metadata": {},
      "source": [
        "## ONNX and opset\n\nThe converter can convert a model to an older opset\nthan the default one, from 1 to the last available one.\n\n"
      ]
    },
    {
      "cell_type": "code",
      "execution_count": null,
      "metadata": {
        "collapsed": false
      },
      "outputs": [],
      "source": [
        "def get_domain_opset(onx):\n    domains = onx.opset_import\n    res = [{'domain': dom.domain, 'version': dom.version}\n           for dom in domains]\n    return {d['domain']: d['version'] for d in res}\n\n\nfor opset in range(1, onnx_opset_version() + 1):\n    try:\n        onx = to_onnx(model, X[:1].astype(numpy.float32), target_opset=opset)\n    except RuntimeError as e:\n        print('target: %r error: %r' % (opset, e))\n        continue\n    nodes = len(onx.graph.node)\n    print('target: %r --> %s %d' % (opset, get_domain_opset(onx), nodes))"
      ]
    },
    {
      "cell_type": "markdown",
      "metadata": {},
      "source": [
        "It shows that the model cannot be converted for opset\nbelow 5. Operator `Reshape <https://github.com/onnx/\nonnx/blob/master/docs/Operators.md#Reshape>`_ changed in\nopset 5: a parameter became an input. The converter\ndoes not support *opset < 5* because runtimes usually do not.\n\n## Other opsets\n\nThe previous example changed the opset of the main domain\n``''`` but the other opset domain can be changed as well.\n\n"
      ]
    },
    {
      "cell_type": "code",
      "execution_count": null,
      "metadata": {
        "collapsed": false
      },
      "outputs": [],
      "source": [
        "for opset in range(9, onnx_opset_version() + 1):\n    for opset_ml in range(1, 3):\n        tops = {'': opset, 'ai.onnx.ml': opset_ml}\n        try:\n            onx = to_onnx(\n                model, X[:1].astype(numpy.float32), target_opset=tops)\n        except RuntimeError as e:\n            print('target: %r error: %r' % (opset, e))\n            continue\n        nodes = len(onx.graph.node)\n        print('target: %r --> %s %d' % (opset, get_domain_opset(onx), nodes))"
      ]
    }
  ],
  "metadata": {
    "kernelspec": {
      "display_name": "Python 3",
      "language": "python",
      "name": "python3"
    },
    "language_info": {
      "codemirror_mode": {
        "name": "ipython",
        "version": 3
      },
      "file_extension": ".py",
      "mimetype": "text/x-python",
      "name": "python",
      "nbconvert_exporter": "python",
      "pygments_lexer": "ipython3",
      "version": "3.9.5"
    }
  },
  "nbformat": 4,
  "nbformat_minor": 0
}