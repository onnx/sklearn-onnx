{
  "cells": [
    {
      "cell_type": "markdown",
      "metadata": {},
      "source": [
        "\n\n# A new converter with options\n\n.. index:: options\n\nOptions are used to implement different conversion\nfor a same model. The options can be used to replace\nan operator *MatMul* by the *Gemm* operator and compare the\nprocessing time for both graph. Let's see how to retrieve\nthe options within a converter.\n\nExample `l-plot-custom-converter` implements a converter\nwhich uses operator *MatMul*. Option *use_gemm* is used to\nreplace *MatMul* by *Gemm*.\n\n## Custom model\n"
      ]
    },
    {
      "cell_type": "code",
      "execution_count": null,
      "metadata": {
        "collapsed": false
      },
      "outputs": [],
      "source": [
        "from pandas import DataFrame\nfrom skl2onnx.tutorial import measure_time\nimport numpy\nfrom onnxruntime import InferenceSession\nfrom sklearn.base import TransformerMixin, BaseEstimator\nfrom sklearn.datasets import load_iris\nfrom skl2onnx import update_registered_converter\nfrom skl2onnx.common.data_types import guess_numpy_type\nfrom skl2onnx.algebra.onnx_ops import OnnxSub, OnnxMatMul, OnnxGemm\nfrom skl2onnx import to_onnx\n\n\nclass DecorrelateTransformer(TransformerMixin, BaseEstimator):\n    \"\"\"\n    Decorrelates correlated gaussian features.\n\n    :param alpha: avoids non inversible matrices\n        by adding *alpha* identity matrix\n\n    *Attributes*\n\n    * `self.mean_`: average\n    * `self.coef_`: square root of the coveriance matrix\n    \"\"\"\n\n    def __init__(self, alpha=0.0):\n        BaseEstimator.__init__(self)\n        TransformerMixin.__init__(self)\n        self.alpha = alpha\n\n    def fit(self, X, y=None, sample_weights=None):\n        if sample_weights is not None:\n            raise NotImplementedError(\"sample_weights != None is not implemented.\")\n        self.mean_ = numpy.mean(X, axis=0, keepdims=True)\n        X = X - self.mean_\n        V = X.T @ X / X.shape[0]\n        if self.alpha != 0:\n            V += numpy.identity(V.shape[0]) * self.alpha\n        L, P = numpy.linalg.eig(V)\n        Linv = L ** (-0.5)\n        diag = numpy.diag(Linv)\n        root = P @ diag @ P.transpose()\n        self.coef_ = root\n        return self\n\n    def transform(self, X):\n        return (X - self.mean_) @ self.coef_\n\n\ndata = load_iris()\nX = data.data\n\ndec = DecorrelateTransformer()\ndec.fit(X)\npred = dec.transform(X[:5])\nprint(pred)"
      ]
    },
    {
      "cell_type": "markdown",
      "metadata": {},
      "source": [
        "## Conversion into ONNX\n\nLet's try to convert it and see what happens.\n\n"
      ]
    },
    {
      "cell_type": "code",
      "execution_count": null,
      "metadata": {
        "collapsed": false
      },
      "outputs": [],
      "source": [
        "def decorrelate_transformer_shape_calculator(operator):\n    op = operator.raw_operator\n    input_type = operator.inputs[0].type.__class__\n    input_dim = operator.inputs[0].type.shape[0]\n    output_type = input_type([input_dim, op.coef_.shape[1]])\n    operator.outputs[0].type = output_type\n\n\ndef decorrelate_transformer_converter(scope, operator, container):\n    op = operator.raw_operator\n    opv = container.target_opset\n    out = operator.outputs\n\n    X = operator.inputs[0]\n\n    dtype = guess_numpy_type(X.type)\n    options = container.get_options(op, dict(use_gemm=False))\n    use_gemm = options[\"use_gemm\"]\n    print(\"conversion: use_gemm=\", use_gemm)\n\n    if use_gemm:\n        Y = OnnxGemm(\n            X,\n            op.coef_.astype(dtype),\n            (-op.mean_ @ op.coef_).astype(dtype),\n            op_version=opv,\n            alpha=1.0,\n            beta=1.0,\n            output_names=out[:1],\n        )\n    else:\n        Y = OnnxMatMul(\n            OnnxSub(X, op.mean_.astype(dtype), op_version=opv),\n            op.coef_.astype(dtype),\n            op_version=opv,\n            output_names=out[:1],\n        )\n    Y.add_to(scope, container)"
      ]
    },
    {
      "cell_type": "markdown",
      "metadata": {},
      "source": [
        "The registration needs to declare the options\nsupported by the converted.\n\n"
      ]
    },
    {
      "cell_type": "code",
      "execution_count": null,
      "metadata": {
        "collapsed": false
      },
      "outputs": [],
      "source": [
        "update_registered_converter(\n    DecorrelateTransformer,\n    \"SklearnDecorrelateTransformer\",\n    decorrelate_transformer_shape_calculator,\n    decorrelate_transformer_converter,\n    options={\"use_gemm\": [True, False]},\n)\n\n\nonx = to_onnx(dec, X.astype(numpy.float32))\n\nsess = InferenceSession(onx.SerializeToString(), providers=[\"CPUExecutionProvider\"])\n\nexp = dec.transform(X.astype(numpy.float32))\ngot = sess.run(None, {\"X\": X.astype(numpy.float32)})[0]\n\n\ndef diff(p1, p2):\n    p1 = p1.ravel()\n    p2 = p2.ravel()\n    d = numpy.abs(p2 - p1)\n    return d.max(), (d / numpy.abs(p1)).max()\n\n\nprint(diff(exp, got))"
      ]
    },
    {
      "cell_type": "markdown",
      "metadata": {},
      "source": [
        "We try the non default option, `use_gemm: True`.\n\n"
      ]
    },
    {
      "cell_type": "code",
      "execution_count": null,
      "metadata": {
        "collapsed": false
      },
      "outputs": [],
      "source": [
        "onx2 = to_onnx(dec, X.astype(numpy.float32), options={\"use_gemm\": True})\n\nsess2 = InferenceSession(onx2.SerializeToString(), providers=[\"CPUExecutionProvider\"])\n\nexp = dec.transform(X.astype(numpy.float32))\ngot2 = sess2.run(None, {\"X\": X.astype(numpy.float32)})[0]\n\nprint(diff(exp, got2))"
      ]
    },
    {
      "cell_type": "markdown",
      "metadata": {},
      "source": [
        "## Time comparison\n\nLet's compare the two computation.\n\n"
      ]
    },
    {
      "cell_type": "code",
      "execution_count": null,
      "metadata": {
        "collapsed": false
      },
      "outputs": [],
      "source": [
        "X32 = X.astype(numpy.float32)\nobs = []\n\ncontext = {\"sess\": sess, \"X32\": X32}\nmt = measure_time(\n    \"sess.run(None, {'X': X32})\", context, div_by_number=True, number=100, repeat=1000\n)\nmt[\"use_gemm\"] = False\nobs.append(mt)\n\ncontext = {\"sess2\": sess2, \"X32\": X32}\nmt2 = measure_time(\n    \"sess2.run(None, {'X': X32})\", context, div_by_number=True, number=10, repeat=100\n)\nmt2[\"use_gemm\"] = True\nobs.append(mt2)\n\nDataFrame(obs).T"
      ]
    }
  ],
  "metadata": {
    "kernelspec": {
      "display_name": "Python 3",
      "language": "python",
      "name": "python3"
    },
    "language_info": {
      "codemirror_mode": {
        "name": "ipython",
        "version": 3
      },
      "file_extension": ".py",
      "mimetype": "text/x-python",
      "name": "python",
      "nbconvert_exporter": "python",
      "pygments_lexer": "ipython3",
      "version": "3.12.9"
    }
  },
  "nbformat": 4,
  "nbformat_minor": 0
}