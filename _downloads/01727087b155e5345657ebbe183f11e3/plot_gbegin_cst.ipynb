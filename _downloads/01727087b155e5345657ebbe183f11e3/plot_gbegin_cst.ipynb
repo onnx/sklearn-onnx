{
  "cells": [
    {
      "cell_type": "markdown",
      "metadata": {},
      "source": [
        "\n# Store arrays in one onnx graph\n\nOnce a model is converted it can be useful to store an\narray as a constant in the graph an retrieve it through\nan output. This allows the user to store training parameters\nor other informations like a vocabulary.\nLast sections shows how to remove an output or to promote\nan intermediate result to an output.\n\n## Train and convert a model\n\nWe download one model from the :epkg:`ONNX Zoo` but the model\ncould be trained and produced by another converter library.\n"
      ]
    },
    {
      "cell_type": "code",
      "execution_count": null,
      "metadata": {
        "collapsed": false
      },
      "outputs": [],
      "source": [
        "import pprint\nimport numpy\nfrom onnx import load\nfrom onnxruntime import InferenceSession\nfrom sklearn.datasets import load_iris\nfrom sklearn.linear_model import LogisticRegression\nfrom sklearn.model_selection import train_test_split\nfrom skl2onnx import to_onnx\nfrom skl2onnx.helpers.onnx_helper import (\n    add_output_initializer,\n    select_model_inputs_outputs,\n)\n\n\ndata = load_iris()\nX, y = data.data.astype(numpy.float32), data.target\nX_train, X_test, y_train, y_test = train_test_split(X, y)\nmodel = LogisticRegression(penalty=\"elasticnet\", C=2.0, solver=\"saga\", l1_ratio=0.5)\nmodel.fit(X_train, y_train)\n\nonx = to_onnx(model, X_train[:1], target_opset=12, options={\"zipmap\": False})"
      ]
    },
    {
      "cell_type": "markdown",
      "metadata": {},
      "source": [
        "## Add training parameter\n\n\n"
      ]
    },
    {
      "cell_type": "code",
      "execution_count": null,
      "metadata": {
        "collapsed": false
      },
      "outputs": [],
      "source": [
        "new_onx = add_output_initializer(\n    onx, [\"C\", \"l1_ratio\"], [numpy.array([model.C]), numpy.array([model.l1_ratio])]\n)"
      ]
    },
    {
      "cell_type": "markdown",
      "metadata": {},
      "source": [
        "## Inference\n\n"
      ]
    },
    {
      "cell_type": "code",
      "execution_count": null,
      "metadata": {
        "collapsed": false
      },
      "outputs": [],
      "source": [
        "sess = InferenceSession(new_onx.SerializeToString(), providers=[\"CPUExecutionProvider\"])\nprint(\"output names:\", [o.name for o in sess.get_outputs()])\nres = sess.run(None, {\"X\": X_test[:2]})\nprint(\"outputs\")\npprint.pprint(res)"
      ]
    },
    {
      "cell_type": "markdown",
      "metadata": {},
      "source": [
        "The major draw back of this solution is increase the prediction\ntime as onnxruntime copies the constants for every prediction.\nIt is possible either to store those constant in a separate ONNX graph\nor to removes them.\n\n## Select outputs\n\nNext function removes unneeded outputs from a model,\nnot only the constants. Next model only keeps the probabilities.\n\n"
      ]
    },
    {
      "cell_type": "code",
      "execution_count": null,
      "metadata": {
        "collapsed": false
      },
      "outputs": [],
      "source": [
        "simple_onx = select_model_inputs_outputs(new_onx, [\"probabilities\"])\n\nsess = InferenceSession(\n    simple_onx.SerializeToString(), providers=[\"CPUExecutionProvider\"]\n)\nprint(\"output names:\", [o.name for o in sess.get_outputs()])\nres = sess.run(None, {\"X\": X_test[:2]})\nprint(\"outputs\")\npprint.pprint(res)\n\n# Function *select_model_inputs_outputs* add also promote an intermediate\n# result to an output.\n#"
      ]
    },
    {
      "cell_type": "markdown",
      "metadata": {},
      "source": [
        "This example only uses ONNX graph in memory and never saves or loads a\nmodel. This can be done by using the following snippets of code.\n\n## Save a model\n\n"
      ]
    },
    {
      "cell_type": "code",
      "execution_count": null,
      "metadata": {
        "collapsed": false
      },
      "outputs": [],
      "source": [
        "with open(\"simplified_model.onnx\", \"wb\") as f:\n    f.write(simple_onx.SerializeToString())"
      ]
    },
    {
      "cell_type": "markdown",
      "metadata": {},
      "source": [
        "## Load a model\n\n"
      ]
    },
    {
      "cell_type": "code",
      "execution_count": null,
      "metadata": {
        "collapsed": false
      },
      "outputs": [],
      "source": [
        "model = load(\"simplified_model.onnx\")\n\nsess = InferenceSession(model.SerializeToString(), providers=[\"CPUExecutionProvider\"])\nprint(\"output names:\", [o.name for o in sess.get_outputs()])\nres = sess.run(None, {\"X\": X_test[:2]})\nprint(\"outputs\")\npprint.pprint(res)"
      ]
    }
  ],
  "metadata": {
    "kernelspec": {
      "display_name": "Python 3",
      "language": "python",
      "name": "python3"
    },
    "language_info": {
      "codemirror_mode": {
        "name": "ipython",
        "version": 3
      },
      "file_extension": ".py",
      "mimetype": "text/x-python",
      "name": "python",
      "nbconvert_exporter": "python",
      "pygments_lexer": "ipython3",
      "version": "3.12.9"
    }
  },
  "nbformat": 4,
  "nbformat_minor": 0
}