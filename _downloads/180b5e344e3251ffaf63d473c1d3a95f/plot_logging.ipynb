{
  "cells": [
    {
      "cell_type": "markdown",
      "metadata": {},
      "source": [
        "\n\n# Logging, verbose\n\nThe conversion of a pipeline fails if it contains an object without any\nassociated converter. It may also fails if one of the object is mapped\nby a custom converter. If the error message is not explicit enough,\nit is possible to enable logging.\n\n## Train a model\n\nA very basic example using random forest and\nthe iris dataset.\n"
      ]
    },
    {
      "cell_type": "code",
      "execution_count": null,
      "metadata": {
        "collapsed": false
      },
      "outputs": [],
      "source": [
        "import logging\nimport numpy\nimport onnx\nimport onnxruntime as rt\nimport sklearn\nfrom sklearn.datasets import load_iris\nfrom sklearn.model_selection import train_test_split\nfrom sklearn.tree import DecisionTreeClassifier\nfrom skl2onnx.common.data_types import FloatTensorType\nfrom skl2onnx import convert_sklearn\nimport skl2onnx\n\niris = load_iris()\nX, y = iris.data, iris.target\nX_train, X_test, y_train, y_test = train_test_split(X, y)\nclr = DecisionTreeClassifier()\nclr.fit(X_train, y_train)\nprint(clr)"
      ]
    },
    {
      "cell_type": "markdown",
      "metadata": {},
      "source": [
        "## Convert a model into ONNX\n\n"
      ]
    },
    {
      "cell_type": "code",
      "execution_count": null,
      "metadata": {
        "collapsed": false
      },
      "outputs": [],
      "source": [
        "initial_type = [(\"float_input\", FloatTensorType([None, 4]))]\nonx = convert_sklearn(clr, initial_types=initial_type, target_opset=12)\n\n\nsess = rt.InferenceSession(onx.SerializeToString(), providers=[\"CPUExecutionProvider\"])\ninput_name = sess.get_inputs()[0].name\nlabel_name = sess.get_outputs()[0].name\npred_onx = sess.run([label_name], {input_name: X_test.astype(numpy.float32)})[0]\nprint(pred_onx)"
      ]
    },
    {
      "cell_type": "markdown",
      "metadata": {},
      "source": [
        "## Conversion with parameter verbose\n\nverbose is a parameter which prints messages on the standard output.\nIt tells which converter is called. `verbose=1` usually means what *skl2onnx*\nis doing to convert a pipeline. `verbose=2+`\nis reserved for information within converters.\n\n"
      ]
    },
    {
      "cell_type": "code",
      "execution_count": null,
      "metadata": {
        "collapsed": false
      },
      "outputs": [],
      "source": [
        "convert_sklearn(clr, initial_types=initial_type, target_opset=12, verbose=1)"
      ]
    },
    {
      "cell_type": "markdown",
      "metadata": {},
      "source": [
        "## Conversion with logging\n\nThis is very detailed logging. It which operators or variables\n(output of converters) is processed, which node is created...\nThis information may be useful when a custom converter is being\nimplemented.\n\n"
      ]
    },
    {
      "cell_type": "code",
      "execution_count": null,
      "metadata": {
        "collapsed": false
      },
      "outputs": [],
      "source": [
        "logger = logging.getLogger(\"skl2onnx\")\nlogger.setLevel(logging.DEBUG)\n\nconvert_sklearn(clr, initial_types=initial_type, target_opset=12)"
      ]
    },
    {
      "cell_type": "markdown",
      "metadata": {},
      "source": [
        "And to disable it.\n\n"
      ]
    },
    {
      "cell_type": "code",
      "execution_count": null,
      "metadata": {
        "collapsed": false
      },
      "outputs": [],
      "source": [
        "logger.setLevel(logging.INFO)\n\nconvert_sklearn(clr, initial_types=initial_type, target_opset=12)\n\nlogger.setLevel(logging.WARNING)"
      ]
    },
    {
      "cell_type": "markdown",
      "metadata": {},
      "source": [
        "**Versions used for this example**\n\n"
      ]
    },
    {
      "cell_type": "code",
      "execution_count": null,
      "metadata": {
        "collapsed": false
      },
      "outputs": [],
      "source": [
        "print(\"numpy:\", numpy.__version__)\nprint(\"scikit-learn:\", sklearn.__version__)\nprint(\"onnx: \", onnx.__version__)\nprint(\"onnxruntime: \", rt.__version__)\nprint(\"skl2onnx: \", skl2onnx.__version__)"
      ]
    }
  ],
  "metadata": {
    "kernelspec": {
      "display_name": "Python 3",
      "language": "python",
      "name": "python3"
    },
    "language_info": {
      "codemirror_mode": {
        "name": "ipython",
        "version": 3
      },
      "file_extension": ".py",
      "mimetype": "text/x-python",
      "name": "python",
      "nbconvert_exporter": "python",
      "pygments_lexer": "ipython3",
      "version": "3.12.9"
    }
  },
  "nbformat": 4,
  "nbformat_minor": 0
}