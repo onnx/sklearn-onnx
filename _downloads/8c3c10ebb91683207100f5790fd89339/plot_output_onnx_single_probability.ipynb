{
  "cells": [
    {
      "cell_type": "markdown",
      "metadata": {},
      "source": [
        "\n# Append onnx nodes to the converted model\n\nThis example show how to append some onnx nodes to the converted\nmodel to produce the desired output. In this case, it removes the second\ncolumn of the output probabilies.\n\nTo be completly accurate, most of the code was generated using a LLM\nand modified to accomodate with the latest changes.\n"
      ]
    },
    {
      "cell_type": "code",
      "execution_count": null,
      "metadata": {
        "collapsed": false
      },
      "outputs": [],
      "source": [
        "from sklearn.datasets import load_iris\nfrom sklearn.linear_model import LogisticRegression\nfrom sklearn.model_selection import train_test_split\nfrom skl2onnx import convert_sklearn\nfrom skl2onnx.common.data_types import FloatTensorType\nimport onnx\n\niris = load_iris()\nX, y = iris.data, iris.target\nX_train, X_test, y_train, y_test = train_test_split(X, y)\nclr = LogisticRegression(max_iter=500)\nclr.fit(X_train, y_train)"
      ]
    },
    {
      "cell_type": "markdown",
      "metadata": {},
      "source": [
        "model_to_convert refers to the scikit-learn classifier to convert.\n\n"
      ]
    },
    {
      "cell_type": "code",
      "execution_count": null,
      "metadata": {
        "collapsed": false
      },
      "outputs": [],
      "source": [
        "model_to_convert = clr  # model to convert\nX_test = X_test[:1]  # data used to test or train, one row is enough"
      ]
    },
    {
      "cell_type": "markdown",
      "metadata": {},
      "source": [
        "Set the output filename for the modified ONNX model\n\n"
      ]
    },
    {
      "cell_type": "code",
      "execution_count": null,
      "metadata": {
        "collapsed": false
      },
      "outputs": [],
      "source": [
        "output_filename = \"output_file.onnx\"  # Replace with your desired output filename"
      ]
    },
    {
      "cell_type": "markdown",
      "metadata": {},
      "source": [
        "Step 1: Convert the model to ONNX format,\ndisabling the output of labels.\nDefine the input type for the ONNX model.\nThe input type is a float tensor with shape\n[None, X_test.shape[1]], where None indicates that the\nnumber of input samples can be flexible,\nand X_test.shape[1] is the number of features for each input sample.\nA \"tensor\" is essentially a multi-dimensional array,\ncommonly used in machine learning to represent data.\nA \"float tensor\" specifically contains floating-point\nnumbers, which are numbers with decimals.\n\n"
      ]
    },
    {
      "cell_type": "code",
      "execution_count": null,
      "metadata": {
        "collapsed": false
      },
      "outputs": [],
      "source": [
        "initial_type = [(\"float_input\", FloatTensorType([None, X_test.shape[1]]))]"
      ]
    },
    {
      "cell_type": "markdown",
      "metadata": {},
      "source": [
        "Convert the model to ONNX format.\n- target_opset=18 specifies the version of ONNX operators to use.\n- options={...} sets parameters for the conversion:\n  - \"zipmap\": False ensures that the output is a raw array\n  - of probabilities instead of a dictionary.\n  - \"output_class_labels\": False ensures that the output\n    contains only probabilities, not class labels.\nONNX (Open Neural Network Exchange) is an open format for\nrepresenting machine learning models.\nIt allows interoperability between different machine learning frameworks,\nenabling the use of models across various platforms.\n\n"
      ]
    },
    {
      "cell_type": "code",
      "execution_count": null,
      "metadata": {
        "collapsed": false
      },
      "outputs": [],
      "source": [
        "onx = convert_sklearn(\n    model_to_convert,\n    initial_types=initial_type,\n    target_opset={\"\": 18, \"ai.onnx.ml\": 3},\n    options={\n        id(model_to_convert): {\"zipmap\": False, \"output_class_labels\": False}\n    },  # Ensures the output is only probabilities, not labels\n)"
      ]
    },
    {
      "cell_type": "markdown",
      "metadata": {},
      "source": [
        "Step 2: Load the ONNX model for further modifications if needed\nLoad the ONNX model from the serialized string representation.\nAn ONNX file is essentially a serialized representation of a machine learning\nmodel that can be shared and used across different systems.\n\n"
      ]
    },
    {
      "cell_type": "code",
      "execution_count": null,
      "metadata": {
        "collapsed": false
      },
      "outputs": [],
      "source": [
        "onnx_model = onnx.load_model_from_string(onx.SerializeToString())"
      ]
    },
    {
      "cell_type": "markdown",
      "metadata": {},
      "source": [
        "Assuming the first output in this model should be the probability tensor\nExtract the name of the output tensor representing the probabilities.\nIf there are multiple outputs, select the second one, otherwise, select the first.\n\n"
      ]
    },
    {
      "cell_type": "code",
      "execution_count": null,
      "metadata": {
        "collapsed": false
      },
      "outputs": [],
      "source": [
        "prob_output_name = (\n    onnx_model.graph.output[1].name\n    if len(onnx_model.graph.output) > 1\n    else onnx_model.graph.output[0].name\n)"
      ]
    },
    {
      "cell_type": "markdown",
      "metadata": {},
      "source": [
        "Add a Gather node to extract only the probability\nof the positive class (index 1)\nCreate a tensor to specify the index to gather\n(index 1), which represents the positive class.\n\n"
      ]
    },
    {
      "cell_type": "code",
      "execution_count": null,
      "metadata": {
        "collapsed": false
      },
      "outputs": [],
      "source": [
        "indices = onnx.helper.make_tensor(\n    \"indices\", onnx.TensorProto.INT64, (1,), [1]\n)  # Index 1 to gather positive class"
      ]
    },
    {
      "cell_type": "markdown",
      "metadata": {},
      "source": [
        "Create a \"Gather\" node in the ONNX graph to extract the probability of the positive class.\n- inputs: [prob_output_name, \"indices\"] specify the inputs\n  to this node (probability tensor and index tensor).\n- outputs: [\"positive_class_prob\"] specify the name of the output of this node.\n- axis=1 indicates gathering along the columns (features) of the probability tensor.\nA \"Gather\" node is used to extract specific elements from a tensor.\nHere, it extracts the probability for the positive class.\n\n"
      ]
    },
    {
      "cell_type": "code",
      "execution_count": null,
      "metadata": {
        "collapsed": false
      },
      "outputs": [],
      "source": [
        "gather_node = onnx.helper.make_node(\n    \"Gather\",\n    inputs=[prob_output_name, \"indices\"],\n    outputs=[\"positive_class_prob\"],\n    axis=1,  # Gather along columns (axis 1)\n)"
      ]
    },
    {
      "cell_type": "markdown",
      "metadata": {},
      "source": [
        "Add the Gather node to the ONNX graph\n\n"
      ]
    },
    {
      "cell_type": "code",
      "execution_count": null,
      "metadata": {
        "collapsed": false
      },
      "outputs": [],
      "source": [
        "onnx_model.graph.node.append(gather_node)"
      ]
    },
    {
      "cell_type": "markdown",
      "metadata": {},
      "source": [
        "Add the tensor initializer for indices (needed for the Gather node)\nInitializers in ONNX are used to define constant tensors that are used in the computation.\n\n"
      ]
    },
    {
      "cell_type": "code",
      "execution_count": null,
      "metadata": {
        "collapsed": false
      },
      "outputs": [],
      "source": [
        "onnx_model.graph.initializer.append(indices)"
      ]
    },
    {
      "cell_type": "markdown",
      "metadata": {},
      "source": [
        "Remove existing outputs and add only the new output for the positive class probability\nClear the existing output definitions to replace them with the new output.\n\n"
      ]
    },
    {
      "cell_type": "code",
      "execution_count": null,
      "metadata": {
        "collapsed": false
      },
      "outputs": [],
      "source": [
        "del onnx_model.graph.output[:]"
      ]
    },
    {
      "cell_type": "markdown",
      "metadata": {},
      "source": [
        "Define new output for the positive class probability\nCreate a new output tensor specification with the name \"positive_class_prob\".\n\n"
      ]
    },
    {
      "cell_type": "code",
      "execution_count": null,
      "metadata": {
        "collapsed": false
      },
      "outputs": [],
      "source": [
        "positive_class_output = onnx.helper.make_tensor_value_info(\n    \"positive_class_prob\", onnx.TensorProto.FLOAT, [None, 1]\n)\nonnx_model.graph.output.append(positive_class_output)"
      ]
    },
    {
      "cell_type": "markdown",
      "metadata": {},
      "source": [
        "Step 3: Save the modified ONNX model\nSave the modified ONNX model to the specified output filename.\nThe resulting ONNX file can then be loaded and used in different environments\nthat support ONNX, such as inference servers or other machine learning frameworks.\n\n"
      ]
    },
    {
      "cell_type": "code",
      "execution_count": null,
      "metadata": {
        "collapsed": false
      },
      "outputs": [],
      "source": [
        "onnx.save(onnx_model, output_filename)"
      ]
    },
    {
      "cell_type": "markdown",
      "metadata": {},
      "source": [
        "The model can be printed as follows.\n\n"
      ]
    },
    {
      "cell_type": "code",
      "execution_count": null,
      "metadata": {
        "collapsed": false
      },
      "outputs": [],
      "source": [
        "print(onnx.printer.to_text(onnx_model))"
      ]
    }
  ],
  "metadata": {
    "kernelspec": {
      "display_name": "Python 3",
      "language": "python",
      "name": "python3"
    },
    "language_info": {
      "codemirror_mode": {
        "name": "ipython",
        "version": 3
      },
      "file_extension": ".py",
      "mimetype": "text/x-python",
      "name": "python",
      "nbconvert_exporter": "python",
      "pygments_lexer": "ipython3",
      "version": "3.12.9"
    }
  },
  "nbformat": 4,
  "nbformat_minor": 0
}