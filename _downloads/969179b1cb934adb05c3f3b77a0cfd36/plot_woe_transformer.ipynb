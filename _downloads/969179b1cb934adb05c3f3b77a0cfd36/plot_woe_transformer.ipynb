{
  "cells": [
    {
      "cell_type": "markdown",
      "metadata": {},
      "source": [
        "\n\n# Converter for WOE\n\nWOE means Weights of Evidence. It consists in checking that\na feature X belongs to a series of regions - intervals -.\nThe results is the label of every intervals containing the feature.\n\n.. index:: WOE, WOETransformer\n\n## A simple example\n\nX is a vector made of the first ten integers. Class\n:class:`WOETransformer <skl2onnx.sklapi.WOETransformer>`\nchecks that every of them belongs to two intervals,\n`]1, 3[` (leftright-opened) and `[5, 7]`\n(left-right-closed). The first interval is associated\nto weight 55 and and the second one to 107.\n"
      ]
    },
    {
      "cell_type": "code",
      "execution_count": null,
      "metadata": {
        "collapsed": false
      },
      "outputs": [],
      "source": [
        "import os\nimport numpy as np\nimport pandas as pd\nfrom onnx.tools.net_drawer import GetPydotGraph, GetOpNodeProducer\nfrom onnxruntime import InferenceSession\nimport matplotlib.pyplot as plt\nfrom skl2onnx import to_onnx\nfrom skl2onnx.sklapi import WOETransformer\n\n# automatically registers the converter for WOETransformer\nimport skl2onnx.sklapi.register  # noqa: F401\n\nX = np.arange(10).astype(np.float32).reshape((-1, 1))\n\nintervals = [[(1.0, 3.0, False, False), (5.0, 7.0, True, True)]]\nweights = [[55, 107]]\n\nwoe1 = WOETransformer(intervals, onehot=False, weights=weights)\nwoe1.fit(X)\nprd = woe1.transform(X)\ndf = pd.DataFrame({\"X\": X.ravel(), \"woe\": prd.ravel()})\ndf"
      ]
    },
    {
      "cell_type": "markdown",
      "metadata": {},
      "source": [
        "## One Hot\n\nThe transformer outputs one column with the weights.\nBut it could return one column per interval.\n\n"
      ]
    },
    {
      "cell_type": "code",
      "execution_count": null,
      "metadata": {
        "collapsed": false
      },
      "outputs": [],
      "source": [
        "woe2 = WOETransformer(intervals, onehot=True, weights=weights)\nwoe2.fit(X)\nprd = woe2.transform(X)\ndf = pd.DataFrame(prd)\ndf.columns = [\"I1\", \"I2\"]\ndf[\"X\"] = X\ndf"
      ]
    },
    {
      "cell_type": "markdown",
      "metadata": {},
      "source": [
        "In that case, weights can be omitted.\nThe output is binary.\n\n"
      ]
    },
    {
      "cell_type": "code",
      "execution_count": null,
      "metadata": {
        "collapsed": false
      },
      "outputs": [],
      "source": [
        "woe = WOETransformer(intervals, onehot=True)\nwoe.fit(X)\nprd = woe.transform(X)\ndf = pd.DataFrame(prd)\ndf.columns = [\"I1\", \"I2\"]\ndf[\"X\"] = X\ndf"
      ]
    },
    {
      "cell_type": "markdown",
      "metadata": {},
      "source": [
        "## Conversion to ONNX\n\n*skl2onnx* implements a converter for all cases.\n\nonehot=False\n\n"
      ]
    },
    {
      "cell_type": "code",
      "execution_count": null,
      "metadata": {
        "collapsed": false
      },
      "outputs": [],
      "source": [
        "onx1 = to_onnx(woe1, X)\nsess = InferenceSession(onx1.SerializeToString(), providers=[\"CPUExecutionProvider\"])\nprint(sess.run(None, {\"X\": X})[0])"
      ]
    },
    {
      "cell_type": "markdown",
      "metadata": {},
      "source": [
        "onehot=True\n\n"
      ]
    },
    {
      "cell_type": "code",
      "execution_count": null,
      "metadata": {
        "collapsed": false
      },
      "outputs": [],
      "source": [
        "onx2 = to_onnx(woe2, X)\nsess = InferenceSession(onx2.SerializeToString(), providers=[\"CPUExecutionProvider\"])\nprint(sess.run(None, {\"X\": X})[0])"
      ]
    },
    {
      "cell_type": "markdown",
      "metadata": {},
      "source": [
        "## ONNX Graphs\n\nonehot=False\n\n"
      ]
    },
    {
      "cell_type": "code",
      "execution_count": null,
      "metadata": {
        "collapsed": false
      },
      "outputs": [],
      "source": [
        "pydot_graph = GetPydotGraph(\n    onx1.graph,\n    name=onx1.graph.name,\n    rankdir=\"TB\",\n    node_producer=GetOpNodeProducer(\n        \"docstring\", color=\"yellow\", fillcolor=\"yellow\", style=\"filled\"\n    ),\n)\npydot_graph.write_dot(\"woe1.dot\")\n\nos.system(\"dot -O -Gdpi=300 -Tpng woe1.dot\")\n\nimage = plt.imread(\"woe1.dot.png\")\nfig, ax = plt.subplots(figsize=(10, 10))\nax.imshow(image)\nax.axis(\"off\")"
      ]
    },
    {
      "cell_type": "markdown",
      "metadata": {},
      "source": [
        "onehot=True\n\n"
      ]
    },
    {
      "cell_type": "code",
      "execution_count": null,
      "metadata": {
        "collapsed": false
      },
      "outputs": [],
      "source": [
        "pydot_graph = GetPydotGraph(\n    onx2.graph,\n    name=onx2.graph.name,\n    rankdir=\"TB\",\n    node_producer=GetOpNodeProducer(\n        \"docstring\", color=\"yellow\", fillcolor=\"yellow\", style=\"filled\"\n    ),\n)\npydot_graph.write_dot(\"woe2.dot\")\n\nos.system(\"dot -O -Gdpi=300 -Tpng woe2.dot\")\n\nimage = plt.imread(\"woe2.dot.png\")\nfig, ax = plt.subplots(figsize=(10, 10))\nax.imshow(image)\nax.axis(\"off\")"
      ]
    },
    {
      "cell_type": "markdown",
      "metadata": {},
      "source": [
        "## Half-line\n\nAn interval may have only one extremity defined and the other\ncan be infinite.\n\n"
      ]
    },
    {
      "cell_type": "code",
      "execution_count": null,
      "metadata": {
        "collapsed": false
      },
      "outputs": [],
      "source": [
        "intervals = [[(-np.inf, 3.0, True, True), (5.0, np.inf, True, True)]]\nweights = [[55, 107]]\n\nwoe1 = WOETransformer(intervals, onehot=False, weights=weights)\nwoe1.fit(X)\nprd = woe1.transform(X)\ndf = pd.DataFrame({\"X\": X.ravel(), \"woe\": prd.ravel()})\ndf"
      ]
    },
    {
      "cell_type": "markdown",
      "metadata": {},
      "source": [
        "And the conversion to ONNX using the same instruction.\n\n"
      ]
    },
    {
      "cell_type": "code",
      "execution_count": null,
      "metadata": {
        "collapsed": false
      },
      "outputs": [],
      "source": [
        "onxinf = to_onnx(woe1, X)\nsess = InferenceSession(onxinf.SerializeToString(), providers=[\"CPUExecutionProvider\"])\nprint(sess.run(None, {\"X\": X})[0])"
      ]
    }
  ],
  "metadata": {
    "kernelspec": {
      "display_name": "Python 3",
      "language": "python",
      "name": "python3"
    },
    "language_info": {
      "codemirror_mode": {
        "name": "ipython",
        "version": 3
      },
      "file_extension": ".py",
      "mimetype": "text/x-python",
      "name": "python",
      "nbconvert_exporter": "python",
      "pygments_lexer": "ipython3",
      "version": "3.12.9"
    }
  },
  "nbformat": 4,
  "nbformat_minor": 0
}