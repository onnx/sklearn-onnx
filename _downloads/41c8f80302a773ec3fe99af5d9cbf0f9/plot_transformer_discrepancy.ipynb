{
  "cells": [
    {
      "cell_type": "markdown",
      "metadata": {},
      "source": [
        "\n\n# Dealing with discrepancies (tf-idf)\n\n.. index:: td-idf\n\n[TfidfVectorizer](https://scikit-learn.org/stable/modules/\ngenerated/sklearn.feature_extraction.text.TfidfVectorizer.html)\nis one transform for which the corresponding converted onnx model\nmay produce different results. The larger the vocabulary is,\nthe higher the probability to get different result is.\nThis example proposes a equivalent model with no discrepancies.\n\n## Imports, setups\n\nAll imports. It also registered onnx converters for :epkg:`xgboost`\nand :epkg:`lightgbm`.\n"
      ]
    },
    {
      "cell_type": "code",
      "execution_count": null,
      "metadata": {
        "collapsed": false
      },
      "outputs": [],
      "source": [
        "import pprint\nimport numpy\nfrom sklearn.pipeline import Pipeline\nfrom sklearn.compose import ColumnTransformer\nfrom sklearn.feature_extraction.text import TfidfVectorizer\nfrom onnxruntime import InferenceSession\nfrom skl2onnx import to_onnx\n\n\ndef print_sparse_matrix(m):\n    nonan = numpy.nan_to_num(m)\n    mi, ma = nonan.min(), nonan.max()\n    if mi == ma:\n        ma += 1\n    mat = numpy.empty(m.shape, dtype=numpy.str_)\n    mat[:, :] = \".\"\n    if hasattr(m, \"todense\"):\n        dense = m.todense()\n    else:\n        dense = m\n    for i in range(m.shape[0]):\n        for j in range(m.shape[1]):\n            if dense[i, j] > 0:\n                c = int((dense[i, j] - mi) / (ma - mi) * 25)\n                mat[i, j] = chr(ord(\"A\") + c)\n    return \"\\n\".join(\"\".join(line) for line in mat)\n\n\ndef diff(a, b):\n    if a.shape != b.shape:\n        raise ValueError(\n            f\"Cannot compare matrices with different shapes {a.shape} != {b.shape}.\"\n        )\n    d = numpy.abs(a - b).sum() / a.size\n    return d"
      ]
    },
    {
      "cell_type": "markdown",
      "metadata": {},
      "source": [
        "## Artificial datasets\n\nIris + a text column.\n\n"
      ]
    },
    {
      "cell_type": "code",
      "execution_count": null,
      "metadata": {
        "collapsed": false
      },
      "outputs": [],
      "source": [
        "strings = numpy.array(\n    [\n        \"This a sentence.\",\n        \"This a sentence with more characters $^*&'(-...\",\n        \"\"\"var = ClassName(var2, user=mail@anywhere.com, pwd\"\"\"\n        \"\"\"=\")_~-('&]@^\\\\`|[{#\")\"\"\",\n        \"c79857654\",\n        \"https://complex-url.com/;76543u3456?g=hhh&amp;h=23\",\n        \"01-03-05T11:12:13\",\n        \"https://complex-url.com/;dd76543u3456?g=ddhhh&amp;h=23\",\n    ]\n).reshape((-1, 1))\n\npprint.pprint(strings)"
      ]
    },
    {
      "cell_type": "markdown",
      "metadata": {},
      "source": [
        "## Fit a TfIdfVectorizer\n\n"
      ]
    },
    {
      "cell_type": "code",
      "execution_count": null,
      "metadata": {
        "collapsed": false
      },
      "outputs": [],
      "source": [
        "tfidf = Pipeline([(\"pre\", ColumnTransformer([(\"tfidf\", TfidfVectorizer(), 0)]))])"
      ]
    },
    {
      "cell_type": "markdown",
      "metadata": {},
      "source": [
        "We leave a couple of strings out of the training set.\n\n"
      ]
    },
    {
      "cell_type": "code",
      "execution_count": null,
      "metadata": {
        "collapsed": false
      },
      "outputs": [],
      "source": [
        "tfidf.fit(strings[:-2])\ntr = tfidf.transform(strings)\ntfidf_step = tfidf.steps[0][1].transformers_[0][1]\n# print(f\"output columns: {tfidf_step.get_feature_names_out()}\")\nprint(\"rendered outputs\")\nprint(print_sparse_matrix(tr))"
      ]
    },
    {
      "cell_type": "markdown",
      "metadata": {},
      "source": [
        "## Conversion to ONNX\n\n"
      ]
    },
    {
      "cell_type": "code",
      "execution_count": null,
      "metadata": {
        "collapsed": false
      },
      "outputs": [],
      "source": [
        "onx = to_onnx(tfidf, strings)"
      ]
    },
    {
      "cell_type": "markdown",
      "metadata": {},
      "source": [
        "## Execution with ONNX\n\n"
      ]
    },
    {
      "cell_type": "code",
      "execution_count": null,
      "metadata": {
        "collapsed": false
      },
      "outputs": [],
      "source": [
        "sess = InferenceSession(onx.SerializeToString(), providers=[\"CPUExecutionProvider\"])\ngot = sess.run(None, {\"X\": strings})[0]\nprint(f\"differences={diff(tr, got):g}\")\nprint(print_sparse_matrix(got))"
      ]
    }
  ],
  "metadata": {
    "kernelspec": {
      "display_name": "Python 3",
      "language": "python",
      "name": "python3"
    },
    "language_info": {
      "codemirror_mode": {
        "name": "ipython",
        "version": 3
      },
      "file_extension": ".py",
      "mimetype": "text/x-python",
      "name": "python",
      "nbconvert_exporter": "python",
      "pygments_lexer": "ipython3",
      "version": "3.12.9"
    }
  },
  "nbformat": 4,
  "nbformat_minor": 0
}