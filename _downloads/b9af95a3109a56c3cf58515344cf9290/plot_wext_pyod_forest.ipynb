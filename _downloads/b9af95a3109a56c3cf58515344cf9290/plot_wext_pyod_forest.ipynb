{
  "cells": [
    {
      "cell_type": "markdown",
      "metadata": {},
      "source": [
        "\n\n# Converter for pyod.models.iforest.IForest\n\n.. index:: pyod, iforest\n\nThis example answers issues [685](https://github.com/onnx/sklearn-onnx/issues/685).\nIt implements a custom converter for model [pyod.models.iforest.IForest](https://pyod.readthedocs.io/en/latest/\npyod.models.html#module-pyod.models.iforest).\nThis example uses `l-plot-custom-converter` as a start.\n\n## Trains a model\n\nAll imports. It also registered onnx converters for :epkg:`xgboost`\nand *lightgbm*.\n"
      ]
    },
    {
      "cell_type": "code",
      "execution_count": null,
      "metadata": {
        "collapsed": false
      },
      "outputs": [],
      "source": [
        "import numpy as np\nimport pandas as pd\nfrom onnxruntime import InferenceSession\nfrom sklearn.preprocessing import MinMaxScaler\nfrom skl2onnx.proto import onnx_proto\nfrom skl2onnx.common.data_types import (\n    FloatTensorType,\n    Int64TensorType,\n    guess_numpy_type,\n)\nfrom skl2onnx import to_onnx, update_registered_converter, get_model_alias\nfrom skl2onnx.algebra.onnx_ops import (\n    OnnxIdentity,\n    OnnxMul,\n    OnnxLess,\n    OnnxConcat,\n    OnnxCast,\n    OnnxAdd,\n    OnnxClip,\n)\nfrom skl2onnx.algebra.onnx_operator import OnnxSubEstimator\n\ntry:\n    from pyod.models.iforest import IForest\nexcept (ValueError, ImportError) as e:\n    print(\"Unable to import pyod:\", e)\n    IForest = None\n\nif IForest is not None:\n    data1 = {\n        \"First\": [500, 500, 400, 100, 200, 300, 100],\n        \"Second\": [\"a\", \"b\", \"a\", \"b\", \"a\", \"b\", \"c\"],\n    }\n\n    df1 = pd.DataFrame(data1, columns=[\"First\", \"Second\"])\n    dumdf1 = pd.get_dummies(df1)\n    scaler = MinMaxScaler()\n    scaler.partial_fit(dumdf1)\n    sc_data = scaler.transform(dumdf1)\n    model1 = IForest(\n        n_estimators=10,\n        bootstrap=True,\n        behaviour=\"new\",\n        contamination=0.1,\n        random_state=np.random.RandomState(42),\n        verbose=1,\n        n_jobs=-1,\n    ).fit(sc_data)\n    feature_names2 = dumdf1.columns\n\n    initial_type = [(\"float_input\", FloatTensorType([None, len(feature_names2)]))]"
      ]
    },
    {
      "cell_type": "markdown",
      "metadata": {},
      "source": [
        "We check that the conversion fails as expected.\n\n"
      ]
    },
    {
      "cell_type": "code",
      "execution_count": null,
      "metadata": {
        "collapsed": false
      },
      "outputs": [],
      "source": [
        "if IForest is not None:\n    try:\n        to_onnx(model1, initial_types=initial_type)\n    except Exception as e:\n        print(e)"
      ]
    },
    {
      "cell_type": "markdown",
      "metadata": {},
      "source": [
        "## Custom converter\n\nFirst the parser and the shape calculator.\nThe parser defines the number of outputs and their type.\nThe shape calculator defines their dimensions.\n\n"
      ]
    },
    {
      "cell_type": "code",
      "execution_count": null,
      "metadata": {
        "collapsed": false
      },
      "outputs": [],
      "source": [
        "def pyod_iforest_parser(scope, model, inputs, custom_parsers=None):\n    alias = get_model_alias(type(model))\n    this_operator = scope.declare_local_operator(alias, model)\n\n    # inputs\n    this_operator.inputs.append(inputs[0])\n\n    # outputs\n    cls_type = inputs[0].type.__class__\n    val_y1 = scope.declare_local_variable(\"label\", Int64TensorType())\n    val_y2 = scope.declare_local_variable(\"probability\", cls_type())\n    this_operator.outputs.append(val_y1)\n    this_operator.outputs.append(val_y2)\n\n    # end\n    return this_operator.outputs\n\n\ndef pyod_iforest_shape_calculator(operator):\n    N = operator.inputs[0].get_first_dimension()\n    operator.outputs[0].type.shape = [N, 1]\n    operator.outputs[1].type.shape = [N, 2]"
      ]
    },
    {
      "cell_type": "markdown",
      "metadata": {},
      "source": [
        "Then the converter.\n\n"
      ]
    },
    {
      "cell_type": "code",
      "execution_count": null,
      "metadata": {
        "collapsed": false
      },
      "outputs": [],
      "source": [
        "def pyod_iforest_converter(scope, operator, container):\n    op = operator.raw_operator\n    opv = container.target_opset\n    out = operator.outputs\n\n    # We retrieve the unique input.\n    X = operator.inputs[0]\n\n    # In most case, computation happen in floats.\n    # But it might be with double. ONNX is very strict\n    # about types, every constant should have the same\n    # type as the input.\n    dtype = guess_numpy_type(X.type)\n\n    detector = op.detector_  # Should be IForest from scikit-learn.\n    lab_pred = OnnxSubEstimator(detector, X, op_version=opv)\n    scores = OnnxIdentity(lab_pred[1], op_version=opv)\n\n    # labels\n    threshold = op.threshold_\n    above = OnnxLess(scores, np.array([threshold], dtype=dtype), op_version=opv)\n    labels = OnnxCast(\n        above, op_version=opv, to=onnx_proto.TensorProto.INT64, output_names=out[:1]\n    )\n\n    # probabilities\n    train_scores = op.decision_scores_\n    scaler = MinMaxScaler().fit(train_scores.reshape(-1, 1))\n    scores_ = OnnxMul(scores, np.array([-1], dtype=dtype), op_version=opv)\n    print(scaler.min_)\n    print(scaler.scale_)\n\n    scaled = OnnxMul(scores_, scaler.scale_.astype(dtype), op_version=opv)\n    scaled_centered = OnnxAdd(scaled, scaler.min_.astype(dtype), op_version=opv)\n    clipped = OnnxClip(\n        scaled_centered,\n        np.array([0], dtype=dtype),\n        np.array([1], dtype=dtype),\n        op_version=opv,\n    )\n    clipped_ = OnnxAdd(\n        OnnxMul(clipped, np.array([-1], dtype=dtype), op_version=opv),\n        np.array([1], dtype=dtype),\n        op_version=opv,\n    )\n\n    scores_2d = OnnxConcat(\n        clipped_, clipped, axis=1, op_version=opv, output_names=out[1:]\n    )\n\n    labels.add_to(scope, container)\n    scores_2d.add_to(scope, container)"
      ]
    },
    {
      "cell_type": "markdown",
      "metadata": {},
      "source": [
        "Finally the registration.\n\n"
      ]
    },
    {
      "cell_type": "code",
      "execution_count": null,
      "metadata": {
        "collapsed": false
      },
      "outputs": [],
      "source": [
        "if IForest is not None:\n    update_registered_converter(\n        IForest,\n        \"PyodIForest\",\n        pyod_iforest_shape_calculator,\n        pyod_iforest_converter,\n        parser=pyod_iforest_parser,\n    )"
      ]
    },
    {
      "cell_type": "markdown",
      "metadata": {},
      "source": [
        "And the conversion.\n\n"
      ]
    },
    {
      "cell_type": "code",
      "execution_count": null,
      "metadata": {
        "collapsed": false
      },
      "outputs": [],
      "source": [
        "if IForest is not None:\n    onx = to_onnx(\n        model1, initial_types=initial_type, target_opset={\"\": 14, \"ai.onnx.ml\": 2}\n    )"
      ]
    },
    {
      "cell_type": "markdown",
      "metadata": {},
      "source": [
        "## Checking discrepencies\n\n"
      ]
    },
    {
      "cell_type": "code",
      "execution_count": null,
      "metadata": {
        "collapsed": false
      },
      "outputs": [],
      "source": [
        "if IForest is not None:\n    data = sc_data.astype(np.float32)\n\n    expected_labels = model1.predict(data)\n    expected_proba = model1.predict_proba(data)\n\n    sess = InferenceSession(onx.SerializeToString(), providers=[\"CPUExecutionProvider\"])\n    res = sess.run(None, {\"float_input\": data})\n\n    onx_labels = res[0]\n    onx_proba = res[1]\n\n    diff_labels = np.abs(onx_labels.ravel() - expected_labels.ravel()).max()\n    diff_proba = np.abs(onx_proba.ravel() - expected_proba.ravel()).max()\n\n    print(\"dicrepencies:\", diff_labels, diff_proba)\n\n    print(\"ONNX labels\", onx_labels)\n    print(\"ONNX probabilities\", onx_proba)"
      ]
    }
  ],
  "metadata": {
    "kernelspec": {
      "display_name": "Python 3",
      "language": "python",
      "name": "python3"
    },
    "language_info": {
      "codemirror_mode": {
        "name": "ipython",
        "version": 3
      },
      "file_extension": ".py",
      "mimetype": "text/x-python",
      "name": "python",
      "nbconvert_exporter": "python",
      "pygments_lexer": "ipython3",
      "version": "3.12.9"
    }
  },
  "nbformat": 4,
  "nbformat_minor": 0
}