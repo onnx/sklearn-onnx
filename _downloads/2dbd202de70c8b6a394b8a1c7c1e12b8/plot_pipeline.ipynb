{
  "cells": [
    {
      "cell_type": "code",
      "execution_count": null,
      "metadata": {
        "collapsed": false
      },
      "outputs": [],
      "source": [
        "%matplotlib inline"
      ]
    },
    {
      "cell_type": "markdown",
      "metadata": {},
      "source": [
        "\n# Draw a pipeline\n\nThere is no other way to look into one model stored\nin ONNX format than looking into its node with\n*onnx*. This example demonstrates\nhow to draw a model and to retrieve it in *json*\nformat.\n\n## Retrieve a model in JSON format\n\nThat's the most simple way.\n"
      ]
    },
    {
      "cell_type": "code",
      "execution_count": null,
      "metadata": {
        "collapsed": false
      },
      "outputs": [],
      "source": [
        "import skl2onnx\nimport onnxruntime\nimport sklearn\nimport numpy\nimport matplotlib.pyplot as plt\nimport os\nfrom onnx.tools.net_drawer import GetPydotGraph, GetOpNodeProducer\nfrom onnx import ModelProto\nimport onnx\nfrom skl2onnx.algebra.onnx_ops import OnnxAdd, OnnxMul\n\nonnx_fct = OnnxAdd(\n    OnnxMul('X', numpy.array([2], dtype=numpy.float32),\n            op_version=12),\n    numpy.array([[1, 0], [0, 1]], dtype=numpy.float32),\n    output_names=['Y'], op_version=12)\n\nX = numpy.array([[4, 5], [-2, 3]], dtype=numpy.float32)\nmodel = onnx_fct.to_onnx({'X': X}, target_opset=12)\nprint(model)\n\nfilename = \"example1.onnx\"\nwith open(filename, \"wb\") as f:\n    f.write(model.SerializeToString())"
      ]
    },
    {
      "cell_type": "markdown",
      "metadata": {},
      "source": [
        "## Draw a model with ONNX\nWe use `net_drawer.py\n<https://github.com/onnx/onnx/blob/master/onnx/tools/net_drawer.py>`_\nincluded in *onnx* package.\nWe use *onnx* to load the model\nin a different way than before.\n\n"
      ]
    },
    {
      "cell_type": "code",
      "execution_count": null,
      "metadata": {
        "collapsed": false
      },
      "outputs": [],
      "source": [
        "model = ModelProto()\nwith open(filename, 'rb') as fid:\n    content = fid.read()\n    model.ParseFromString(content)"
      ]
    },
    {
      "cell_type": "markdown",
      "metadata": {},
      "source": [
        "We convert it into a graph.\n\n"
      ]
    },
    {
      "cell_type": "code",
      "execution_count": null,
      "metadata": {
        "collapsed": false
      },
      "outputs": [],
      "source": [
        "pydot_graph = GetPydotGraph(model.graph, name=model.graph.name, rankdir=\"TB\",\n                            node_producer=GetOpNodeProducer(\"docstring\"))\npydot_graph.write_dot(\"graph.dot\")"
      ]
    },
    {
      "cell_type": "markdown",
      "metadata": {},
      "source": [
        "Then into an image\n\n"
      ]
    },
    {
      "cell_type": "code",
      "execution_count": null,
      "metadata": {
        "collapsed": false
      },
      "outputs": [],
      "source": [
        "os.system('dot -O -Tpng graph.dot')"
      ]
    },
    {
      "cell_type": "markdown",
      "metadata": {},
      "source": [
        "Which we display...\n\n"
      ]
    },
    {
      "cell_type": "code",
      "execution_count": null,
      "metadata": {
        "collapsed": false
      },
      "outputs": [],
      "source": [
        "image = plt.imread(\"graph.dot.png\")\nplt.imshow(image)\nplt.axis('off')"
      ]
    },
    {
      "cell_type": "markdown",
      "metadata": {},
      "source": [
        "**Versions used for this example**\n\n"
      ]
    },
    {
      "cell_type": "code",
      "execution_count": null,
      "metadata": {
        "collapsed": false
      },
      "outputs": [],
      "source": [
        "print(\"numpy:\", numpy.__version__)\nprint(\"scikit-learn:\", sklearn.__version__)\nprint(\"onnx: \", onnx.__version__)\nprint(\"onnxruntime: \", onnxruntime.__version__)\nprint(\"skl2onnx: \", skl2onnx.__version__)"
      ]
    }
  ],
  "metadata": {
    "kernelspec": {
      "display_name": "Python 3",
      "language": "python",
      "name": "python3"
    },
    "language_info": {
      "codemirror_mode": {
        "name": "ipython",
        "version": 3
      },
      "file_extension": ".py",
      "mimetype": "text/x-python",
      "name": "python",
      "nbconvert_exporter": "python",
      "pygments_lexer": "ipython3",
      "version": "3.9.5"
    }
  },
  "nbformat": 4,
  "nbformat_minor": 0
}