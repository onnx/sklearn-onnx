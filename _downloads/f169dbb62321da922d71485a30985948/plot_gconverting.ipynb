{
  "cells": [
    {
      "cell_type": "markdown",
      "metadata": {},
      "source": [
        "\n# Modify the ONNX graph\n\nThis example shows how to change the default ONNX graph such as\nrenaming the inputs or outputs names.\n\n## Basic example\n"
      ]
    },
    {
      "cell_type": "code",
      "execution_count": null,
      "metadata": {
        "collapsed": false
      },
      "outputs": [],
      "source": [
        "import numpy\nfrom onnxruntime import InferenceSession\nfrom sklearn.datasets import load_iris\nfrom sklearn.model_selection import train_test_split\nfrom sklearn.linear_model import LogisticRegression\nfrom skl2onnx.common.data_types import FloatTensorType, Int64TensorType\nfrom skl2onnx import to_onnx\n\niris = load_iris()\nX, y = iris.data, iris.target\nX = X.astype(numpy.float32)\nX_train, X_test, y_train, y_test = train_test_split(X, y)\n\nclr = LogisticRegression(solver=\"liblinear\")\nclr.fit(X_train, y_train)\n\n\nonx = to_onnx(clr, X, options={\"zipmap\": False}, target_opset=15)\n\nsess = InferenceSession(onx.SerializeToString(), providers=[\"CPUExecutionProvider\"])\ninput_names = [i.name for i in sess.get_inputs()]\noutput_names = [o.name for o in sess.get_outputs()]\nprint(\"inputs=%r, outputs=%r\" % (input_names, output_names))\nprint(sess.run(None, {input_names[0]: X_test[:2]}))"
      ]
    },
    {
      "cell_type": "markdown",
      "metadata": {},
      "source": [
        "## Changes the input names\n\nIt is possible to change the input name by using the\nparameter *initial_types*. However, the user must specify the input\ntypes as well.\n\n"
      ]
    },
    {
      "cell_type": "code",
      "execution_count": null,
      "metadata": {
        "collapsed": false
      },
      "outputs": [],
      "source": [
        "onx = to_onnx(\n    clr,\n    X,\n    options={\"zipmap\": False},\n    initial_types=[(\"X56\", FloatTensorType([None, X.shape[1]]))],\n    target_opset=15,\n)\n\nsess = InferenceSession(onx.SerializeToString(), providers=[\"CPUExecutionProvider\"])\ninput_names = [i.name for i in sess.get_inputs()]\noutput_names = [o.name for o in sess.get_outputs()]\nprint(\"inputs=%r, outputs=%r\" % (input_names, output_names))\nprint(sess.run(None, {input_names[0]: X_test[:2]}))"
      ]
    },
    {
      "cell_type": "markdown",
      "metadata": {},
      "source": [
        "## Changes the output names\n\nIt is possible to change the input name by using the\nparameter *final_types*.\n\n"
      ]
    },
    {
      "cell_type": "code",
      "execution_count": null,
      "metadata": {
        "collapsed": false
      },
      "outputs": [],
      "source": [
        "onx = to_onnx(\n    clr,\n    X,\n    options={\"zipmap\": False},\n    final_types=[(\"L\", Int64TensorType([None])), (\"P\", FloatTensorType([None, 3]))],\n    target_opset=15,\n)\n\nsess = InferenceSession(onx.SerializeToString(), providers=[\"CPUExecutionProvider\"])\ninput_names = [i.name for i in sess.get_inputs()]\noutput_names = [o.name for o in sess.get_outputs()]\nprint(\"inputs=%r, outputs=%r\" % (input_names, output_names))\nprint(sess.run(None, {input_names[0]: X_test[:2]}))"
      ]
    },
    {
      "cell_type": "markdown",
      "metadata": {},
      "source": [
        "## Renaming intermediate results\n\nIt is possible to rename intermediate results by using a prefix\nor by using a function. The result will be post-processed in order\nto unique names. It does not impact the graph inputs or outputs.\n\n"
      ]
    },
    {
      "cell_type": "code",
      "execution_count": null,
      "metadata": {
        "collapsed": false
      },
      "outputs": [],
      "source": [
        "def rename_results(proposed_name, existing_names):\n    result = \"_\" + proposed_name.upper()\n    while result in existing_names:\n        result += \"A\"\n    print(\"changed %r into %r.\" % (proposed_name, result))\n    return result\n\n\nonx = to_onnx(clr, X, options={\"zipmap\": False}, naming=rename_results, target_opset=15)\n\nsess = InferenceSession(onx.SerializeToString(), providers=[\"CPUExecutionProvider\"])\ninput_names = [i.name for i in sess.get_inputs()]\noutput_names = [o.name for o in sess.get_outputs()]\nprint(\"inputs=%r, outputs=%r\" % (input_names, output_names))\nprint(sess.run(None, {input_names[0]: X_test[:2]}))"
      ]
    }
  ],
  "metadata": {
    "kernelspec": {
      "display_name": "Python 3",
      "language": "python",
      "name": "python3"
    },
    "language_info": {
      "codemirror_mode": {
        "name": "ipython",
        "version": 3
      },
      "file_extension": ".py",
      "mimetype": "text/x-python",
      "name": "python",
      "nbconvert_exporter": "python",
      "pygments_lexer": "ipython3",
      "version": "3.12.9"
    }
  },
  "nbformat": 4,
  "nbformat_minor": 0
}