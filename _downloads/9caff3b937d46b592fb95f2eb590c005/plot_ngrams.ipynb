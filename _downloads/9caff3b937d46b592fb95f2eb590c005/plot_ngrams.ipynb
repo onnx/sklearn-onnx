{
  "cells": [
    {
      "cell_type": "markdown",
      "metadata": {},
      "source": [
        "\n\n# Tricky issue when converting CountVectorizer or TfidfVectorizer\n\nThis issue is described at [scikit-learn/issues/13733](https://github.com/scikit-learn/scikit-learn/issues/13733).\nIf a CountVectorizer or a TfidfVectorizer produces a token with a space,\nskl2onnx cannot know if it a bi-grams or a unigram with a space.\n\n## A simple example impossible to convert\n"
      ]
    },
    {
      "cell_type": "code",
      "execution_count": null,
      "metadata": {
        "collapsed": false
      },
      "outputs": [],
      "source": [
        "import pprint\nimport numpy\nfrom numpy.testing import assert_almost_equal\nfrom onnxruntime import InferenceSession\nfrom sklearn.feature_extraction.text import TfidfVectorizer\nfrom skl2onnx import to_onnx\nfrom skl2onnx.sklapi import TraceableTfidfVectorizer\nimport skl2onnx.sklapi.register  # noqa: F401\n\ncorpus = numpy.array(\n    [\n        \"This is the first document.\",\n        \"This document is the second document.\",\n        \"Is this the first document?\",\n        \"\",\n    ]\n).reshape((4,))\n\npattern = r\"\\b[a-z ]{1,10}\\b\"\nmod1 = TfidfVectorizer(ngram_range=(1, 2), token_pattern=pattern)\nmod1.fit(corpus)"
      ]
    },
    {
      "cell_type": "markdown",
      "metadata": {},
      "source": [
        "Unigrams and bi-grams are placed into the following container\nwhich maps it to its column index.\n\n"
      ]
    },
    {
      "cell_type": "code",
      "execution_count": null,
      "metadata": {
        "collapsed": false
      },
      "outputs": [],
      "source": [
        "pprint.pprint(mod1.vocabulary_)"
      ]
    },
    {
      "cell_type": "markdown",
      "metadata": {},
      "source": [
        "Conversion.\n\n"
      ]
    },
    {
      "cell_type": "code",
      "execution_count": null,
      "metadata": {
        "collapsed": false
      },
      "outputs": [],
      "source": [
        "try:\n    to_onnx(mod1, corpus)\nexcept RuntimeError as e:\n    print(e)"
      ]
    },
    {
      "cell_type": "markdown",
      "metadata": {},
      "source": [
        "## TraceableTfidfVectorizer\n\nClass :class:`TraceableTfidfVectorizer` is equivalent to\n:class:`sklearn.feature_extraction.text.TfidfVectorizer`\nbut stores the unigrams and bi-grams of the vocabulary with tuple\ninstead of concatenating every piece into a string.\n\n"
      ]
    },
    {
      "cell_type": "code",
      "execution_count": null,
      "metadata": {
        "collapsed": false
      },
      "outputs": [],
      "source": [
        "mod2 = TraceableTfidfVectorizer(ngram_range=(1, 2), token_pattern=pattern)\nmod2.fit(corpus)\n\npprint.pprint(mod2.vocabulary_)"
      ]
    },
    {
      "cell_type": "markdown",
      "metadata": {},
      "source": [
        "Let's check it produces the same results.\n\n"
      ]
    },
    {
      "cell_type": "code",
      "execution_count": null,
      "metadata": {
        "collapsed": false
      },
      "outputs": [],
      "source": [
        "assert_almost_equal(mod1.transform(corpus).todense(), mod2.transform(corpus).todense())"
      ]
    },
    {
      "cell_type": "markdown",
      "metadata": {},
      "source": [
        "Conversion. Line `import skl2onnx.sklapi.register`\nwas added to register the converters associated to these\nnew class. By default, only converters for scikit-learn are\ndeclared.\n\n"
      ]
    },
    {
      "cell_type": "code",
      "execution_count": null,
      "metadata": {
        "collapsed": false
      },
      "outputs": [],
      "source": [
        "onx = to_onnx(mod2, corpus)\nsess = InferenceSession(onx.SerializeToString(), providers=[\"CPUExecutionProvider\"])\ngot = sess.run(None, {\"X\": corpus})"
      ]
    },
    {
      "cell_type": "markdown",
      "metadata": {},
      "source": [
        "Let's check if there are discrepancies...\n\n"
      ]
    },
    {
      "cell_type": "code",
      "execution_count": null,
      "metadata": {
        "collapsed": false
      },
      "outputs": [],
      "source": [
        "assert_almost_equal(mod2.transform(corpus).todense(), got[0])"
      ]
    }
  ],
  "metadata": {
    "kernelspec": {
      "display_name": "Python 3",
      "language": "python",
      "name": "python3"
    },
    "language_info": {
      "codemirror_mode": {
        "name": "ipython",
        "version": 3
      },
      "file_extension": ".py",
      "mimetype": "text/x-python",
      "name": "python",
      "nbconvert_exporter": "python",
      "pygments_lexer": "ipython3",
      "version": "3.12.9"
    }
  },
  "nbformat": 4,
  "nbformat_minor": 0
}