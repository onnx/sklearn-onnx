{
  "cells": [
    {
      "cell_type": "markdown",
      "metadata": {},
      "source": [
        "\n\n# Convert a pipeline with a LightGbm model\n\n.. index:: LightGbm\n\n*sklearn-onnx* only converts *scikit-learn* models into *ONNX*\nbut many libraries implement *scikit-learn* API so that their models\ncan be included in a *scikit-learn* pipeline. This example considers\na pipeline including a *LightGbm* model. *sklearn-onnx* can convert\nthe whole pipeline as long as it knows the converter associated to\na *LGBMClassifier*. Let's see how to do it.\n\n## Train a LightGBM classifier\n"
      ]
    },
    {
      "cell_type": "code",
      "execution_count": null,
      "metadata": {
        "collapsed": false
      },
      "outputs": [],
      "source": [
        "import lightgbm\nimport onnxmltools\nimport skl2onnx\nimport onnx\nimport sklearn\nimport matplotlib.pyplot as plt\nimport os\nfrom onnx.tools.net_drawer import GetPydotGraph, GetOpNodeProducer\nimport onnxruntime as rt\nfrom onnxruntime.capi.onnxruntime_pybind11_state import Fail as OrtFail\nfrom skl2onnx import convert_sklearn, update_registered_converter\nfrom skl2onnx.common.shape_calculator import (\n    calculate_linear_classifier_output_shapes,\n)\nfrom onnxmltools.convert.lightgbm.operator_converters.LightGbm import (\n    convert_lightgbm,\n)\nimport onnxmltools.convert.common.data_types\nfrom skl2onnx.common.data_types import FloatTensorType\nimport numpy\nfrom sklearn.datasets import load_iris\nfrom sklearn.pipeline import Pipeline\nfrom sklearn.preprocessing import StandardScaler\nfrom lightgbm import LGBMClassifier\n\ndata = load_iris()\nX = data.data[:, :2]\ny = data.target\n\nind = numpy.arange(X.shape[0])\nnumpy.random.shuffle(ind)\nX = X[ind, :].copy()\ny = y[ind].copy()\n\npipe = Pipeline(\n    [(\"scaler\", StandardScaler()), (\"lgbm\", LGBMClassifier(n_estimators=3))]\n)\npipe.fit(X, y)"
      ]
    },
    {
      "cell_type": "markdown",
      "metadata": {},
      "source": [
        "## Register the converter for LGBMClassifier\n\nThe converter is implemented in *onnxmltools*:\n[onnxmltools...LightGbm.py](https://github.com/onnx/onnxmltools/blob/main/onnxmltools/convert/\nlightgbm/operator_converters/LightGbm.py).\nand the shape calculator:\n[onnxmltools...Classifier.py](https://github.com/onnx/onnxmltools/blob/main/onnxmltools/convert/\nlightgbm/shape_calculators/Classifier.py).\n\n"
      ]
    },
    {
      "cell_type": "markdown",
      "metadata": {},
      "source": [
        "Then we import the converter and shape calculator.\n\n"
      ]
    },
    {
      "cell_type": "markdown",
      "metadata": {},
      "source": [
        "Let's register the new converter.\n\n"
      ]
    },
    {
      "cell_type": "code",
      "execution_count": null,
      "metadata": {
        "collapsed": false
      },
      "outputs": [],
      "source": [
        "update_registered_converter(\n    LGBMClassifier,\n    \"LightGbmLGBMClassifier\",\n    calculate_linear_classifier_output_shapes,\n    convert_lightgbm,\n    options={\"nocl\": [True, False], \"zipmap\": [True, False, \"columns\"]},\n)"
      ]
    },
    {
      "cell_type": "markdown",
      "metadata": {},
      "source": [
        "## Convert again\n\n"
      ]
    },
    {
      "cell_type": "code",
      "execution_count": null,
      "metadata": {
        "collapsed": false
      },
      "outputs": [],
      "source": [
        "model_onnx = convert_sklearn(\n    pipe,\n    \"pipeline_lightgbm\",\n    [(\"input\", FloatTensorType([None, 2]))],\n    target_opset={\"\": 12, \"ai.onnx.ml\": 2},\n)\n\n# And save.\nwith open(\"pipeline_lightgbm.onnx\", \"wb\") as f:\n    f.write(model_onnx.SerializeToString())"
      ]
    },
    {
      "cell_type": "markdown",
      "metadata": {},
      "source": [
        "## Compare the predictions\n\nPredictions with LightGbm.\n\n"
      ]
    },
    {
      "cell_type": "code",
      "execution_count": null,
      "metadata": {
        "collapsed": false
      },
      "outputs": [],
      "source": [
        "print(\"predict\", pipe.predict(X[:5]))\nprint(\"predict_proba\", pipe.predict_proba(X[:1]))"
      ]
    },
    {
      "cell_type": "markdown",
      "metadata": {},
      "source": [
        "Predictions with onnxruntime.\n\n"
      ]
    },
    {
      "cell_type": "code",
      "execution_count": null,
      "metadata": {
        "collapsed": false
      },
      "outputs": [],
      "source": [
        "try:\n    sess = rt.InferenceSession(\n        \"pipeline_lightgbm.onnx\", providers=[\"CPUExecutionProvider\"]\n    )\nexcept OrtFail as e:\n    print(e)\n    print(\"The converter requires onnxmltools>=1.7.0\")\n    sess = None\n\nif sess is not None:\n    pred_onx = sess.run(None, {\"input\": X[:5].astype(numpy.float32)})\n    print(\"predict\", pred_onx[0])\n    print(\"predict_proba\", pred_onx[1][:1])"
      ]
    },
    {
      "cell_type": "markdown",
      "metadata": {},
      "source": [
        "## Display the ONNX graph\n\n"
      ]
    },
    {
      "cell_type": "code",
      "execution_count": null,
      "metadata": {
        "collapsed": false
      },
      "outputs": [],
      "source": [
        "pydot_graph = GetPydotGraph(\n    model_onnx.graph,\n    name=model_onnx.graph.name,\n    rankdir=\"TB\",\n    node_producer=GetOpNodeProducer(\n        \"docstring\", color=\"yellow\", fillcolor=\"yellow\", style=\"filled\"\n    ),\n)\npydot_graph.write_dot(\"pipeline.dot\")\n\nos.system(\"dot -O -Gdpi=300 -Tpng pipeline.dot\")\n\nimage = plt.imread(\"pipeline.dot.png\")\nfig, ax = plt.subplots(figsize=(40, 20))\nax.imshow(image)\nax.axis(\"off\")"
      ]
    },
    {
      "cell_type": "markdown",
      "metadata": {},
      "source": [
        "**Versions used for this example**\n\n"
      ]
    },
    {
      "cell_type": "code",
      "execution_count": null,
      "metadata": {
        "collapsed": false
      },
      "outputs": [],
      "source": [
        "print(\"numpy:\", numpy.__version__)\nprint(\"scikit-learn:\", sklearn.__version__)\nprint(\"onnx: \", onnx.__version__)\nprint(\"onnxruntime: \", rt.__version__)\nprint(\"skl2onnx: \", skl2onnx.__version__)\nprint(\"onnxmltools: \", onnxmltools.__version__)\nprint(\"lightgbm: \", lightgbm.__version__)"
      ]
    }
  ],
  "metadata": {
    "kernelspec": {
      "display_name": "Python 3",
      "language": "python",
      "name": "python3"
    },
    "language_info": {
      "codemirror_mode": {
        "name": "ipython",
        "version": 3
      },
      "file_extension": ".py",
      "mimetype": "text/x-python",
      "name": "python",
      "nbconvert_exporter": "python",
      "pygments_lexer": "ipython3",
      "version": "3.12.9"
    }
  },
  "nbformat": 4,
  "nbformat_minor": 0
}