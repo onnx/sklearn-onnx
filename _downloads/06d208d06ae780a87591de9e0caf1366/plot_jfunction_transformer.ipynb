{
  "cells": [
    {
      "cell_type": "markdown",
      "metadata": {},
      "source": [
        "\n# Issues with FunctionTransformer\n\nA pipeline including a [FunctionTransformer](https://scikit-learn.org/stable/modules/generated/sklearn.preprocessing.FunctionTransformer.html)\ncannot be automatically converted into onnx because there is no converter able to\nconvert custom python code into ONNX. A custom converter needs to be written\nspecifically for it.\n\n## Initial try\n\nA very simple pipeline and the first attempt to convert it into ONNX.\n"
      ]
    },
    {
      "cell_type": "code",
      "execution_count": null,
      "metadata": {
        "collapsed": false
      },
      "outputs": [],
      "source": [
        "import numpy as np\nfrom numpy.testing import assert_allclose\nfrom onnx.version_converter import convert_version\nfrom pandas import DataFrame\nfrom sklearn.base import TransformerMixin, BaseEstimator\nfrom sklearn.tree import DecisionTreeClassifier\nfrom sklearn.preprocessing import FunctionTransformer\nfrom sklearn.compose import ColumnTransformer\nfrom sklearn.pipeline import Pipeline\nfrom skl2onnx import to_onnx\n\n# For the custom converter\nfrom skl2onnx import update_registered_converter\nfrom skl2onnx.common.utils import check_input_and_output_numbers\nfrom skl2onnx.algebra.onnx_ops import OnnxSlice, OnnxSub, OnnxDiv, OnnxMul, OnnxCastLike\nfrom skl2onnx.helpers import add_onnx_graph\nimport onnxscript\nfrom onnxscript import opset18 as op\n\n# To check discrepancies\nfrom onnx.reference import ReferenceEvaluator\nfrom onnxruntime import InferenceSession\n\n\ndef calculate_growth(df):\n    df[\"c\"] = 100 * (df[\"a\"] - df[\"b\"]) / df[\"b\"]\n    return df\n\n\nmapper = ColumnTransformer(\n    transformers=[\n        (\"c\", FunctionTransformer(calculate_growth), [\"a\", \"b\"]),\n    ],\n    remainder=\"passthrough\",\n    verbose_feature_names_out=False,\n)\nmapper.set_output(transform=\"pandas\")\n\npipe = Pipeline([(\"mapper\", mapper), (\"classifier\", DecisionTreeClassifier())])\n\ndata = DataFrame(\n    [\n        dict(a=2, b=1, f=5),\n        dict(a=50, b=4, f=10),\n        dict(a=5, b=2, f=4),\n        dict(a=100, b=6, f=20),\n    ]\n)\ny = np.array([0, 1, 0, 1], dtype=np.int64)\npipe.fit(data, y)\n\ntry:\n    to_onnx(pipe, data[:1], options={\"zipmap\": False})\nexcept Exception as e:\n    print(\"It does not work:\", e)"
      ]
    },
    {
      "cell_type": "markdown",
      "metadata": {},
      "source": [
        "## Use of custom transformer\n\nIt is easier to write a custom converter if the FunctionTransformer\nis implemented as a custom transformer.\n\n"
      ]
    },
    {
      "cell_type": "code",
      "execution_count": null,
      "metadata": {
        "collapsed": false
      },
      "outputs": [],
      "source": [
        "class GrowthCalculator(BaseEstimator, TransformerMixin):\n    def __init__(self):\n        pass\n\n    def calculate_growth(self, x, y):\n        return 100 * (x - y) / y\n\n    def fit(self, X, y=None):\n        return self\n\n    def transform(self, X, y=None):\n        x = X.apply(lambda x: self.calculate_growth(x.a, x.b), axis=1)\n        return x.values.reshape((-1, 1))\n\n\nmapper = ColumnTransformer(\n    transformers=[\n        (\"ab\", FunctionTransformer(), [\"a\", \"b\"]),  # We keep the first column.\n        (\"c\", GrowthCalculator(), [\"a\", \"b\"]),  # We add a new one.\n    ],\n    remainder=\"passthrough\",\n    verbose_feature_names_out=False,\n)\n\npipe_tr = Pipeline([(\"mapper\", mapper), (\"classifier\", DecisionTreeClassifier())])\npipe_tr.fit(data, y)"
      ]
    },
    {
      "cell_type": "markdown",
      "metadata": {},
      "source": [
        "Both pipelines return the same output.\n\n"
      ]
    },
    {
      "cell_type": "code",
      "execution_count": null,
      "metadata": {
        "collapsed": false
      },
      "outputs": [],
      "source": [
        "assert_allclose(pipe.predict_proba(data), pipe_tr.predict_proba(data))"
      ]
    },
    {
      "cell_type": "markdown",
      "metadata": {},
      "source": [
        "Let's check it produces the same number of features.\n\n"
      ]
    },
    {
      "cell_type": "code",
      "execution_count": null,
      "metadata": {
        "collapsed": false
      },
      "outputs": [],
      "source": [
        "assert_allclose(pipe.steps[0][-1].transform(data), pipe_tr.steps[0][-1].transform(data))"
      ]
    },
    {
      "cell_type": "markdown",
      "metadata": {},
      "source": [
        "But the conversion still fails with a different error message.\n\n"
      ]
    },
    {
      "cell_type": "code",
      "execution_count": null,
      "metadata": {
        "collapsed": false
      },
      "outputs": [],
      "source": [
        "try:\n    to_onnx(pipe_tr, data[:1], options={\"zipmap\": False})\nexcept Exception as e:\n    print(\"It does not work:\", e)"
      ]
    },
    {
      "cell_type": "markdown",
      "metadata": {},
      "source": [
        "## Custom converter\n\nWe need to implement the method `calculate_growth` in ONNX.\nThe first function returns the expected type and shape.\n\n"
      ]
    },
    {
      "cell_type": "code",
      "execution_count": null,
      "metadata": {
        "collapsed": false
      },
      "outputs": [],
      "source": [
        "def growth_shape_calculator(operator):\n    check_input_and_output_numbers(operator, input_count_range=1, output_count_range=1)\n    # Gets the input type, the transformer works on any numerical type.\n    input_type = operator.inputs[0].type.__class__\n    # The first dimension is usually dynamic (batch dimension).\n    input_dim = operator.inputs[0].get_first_dimension()\n    operator.outputs[0].type = input_type([input_dim, 1])\n\n\ndef growth_converter(scope, operator, container):\n    # No need to retrieve the fitted estimator, it is not trained.\n    # op = operator.raw_operator\n    opv = container.target_opset\n    X = operator.inputs[0]\n\n    # 100 * (x-y)/y  --> 100 * (X[0] - X[1]) / X[1]\n\n    zero = np.array([0], dtype=np.int64)\n    one = np.array([1], dtype=np.int64)\n    two = np.array([2], dtype=np.int64)\n    hundred = np.array([100], dtype=np.float32)\n\n    # Slice(data, starts, ends, axes)\n    x0 = OnnxSlice(X, zero, one, one, op_version=opv)\n    x1 = OnnxSlice(X, one, two, one, op_version=opv)\n    z = OnnxMul(\n        OnnxCastLike(hundred, X, op_version=opv),\n        OnnxDiv(OnnxSub(x0, x1, op_version=opv), x1, op_version=opv),\n        op_version=opv,\n        output_names=operator.outputs[0],\n    )\n    z.add_to(scope, container)\n\n\nupdate_registered_converter(\n    GrowthCalculator,\n    \"AliasGrowthCalculator\",\n    growth_shape_calculator,\n    growth_converter,\n)\n\n\nonx = to_onnx(pipe_tr, data[:1], target_opset=18, options={\"zipmap\": False})"
      ]
    },
    {
      "cell_type": "markdown",
      "metadata": {},
      "source": [
        "## Let's check there is no discrepancies\n\nFirst the expected values\n\n"
      ]
    },
    {
      "cell_type": "code",
      "execution_count": null,
      "metadata": {
        "collapsed": false
      },
      "outputs": [],
      "source": [
        "expected = (pipe_tr.predict(data), pipe_tr.predict_proba(data))\nprint(expected)"
      ]
    },
    {
      "cell_type": "markdown",
      "metadata": {},
      "source": [
        "Then let's check with :class:`onnx.reference.ReferenceEvaluator`.\n\n"
      ]
    },
    {
      "cell_type": "code",
      "execution_count": null,
      "metadata": {
        "collapsed": false
      },
      "outputs": [],
      "source": [
        "feeds = {\n    \"a\": data[\"a\"].values.reshape((-1, 1)),\n    \"b\": data[\"b\"].values.reshape((-1, 1)),\n    \"f\": data[\"f\"].values.reshape((-1, 1)),\n}\n\n# verbose=10 to show intermediate results\nref = ReferenceEvaluator(onx, verbose=0)\ngot = ref.run(None, feeds)\n\nassert_allclose(expected[0], got[0])\nassert_allclose(expected[1], got[1])"
      ]
    },
    {
      "cell_type": "markdown",
      "metadata": {},
      "source": [
        "Then with the runtime used to deploy, onnxruntime for example.\n\n"
      ]
    },
    {
      "cell_type": "code",
      "execution_count": null,
      "metadata": {
        "collapsed": false
      },
      "outputs": [],
      "source": [
        "ref = InferenceSession(onx.SerializeToString(), providers=[\"CPUExecutionProvider\"])\ngot = ref.run(None, feeds)\n\nassert_allclose(expected[0], got[0])\nassert_allclose(expected[1], got[1])"
      ]
    },
    {
      "cell_type": "markdown",
      "metadata": {},
      "source": [
        "## Custom converter with onnxscript\n\n[onnxscript](https://github.com/microsoft/onnxscript)\noffers a less verbose API than what onnx package implements.\nLet's see how to use it to write the converters.\n\n"
      ]
    },
    {
      "cell_type": "code",
      "execution_count": null,
      "metadata": {
        "collapsed": false
      },
      "outputs": [],
      "source": [
        "@onnxscript.script()\ndef calculate_onnxscript_verbose(X):\n    # onnxscript must define an opset. We use an identity node\n    # from a specific opset to set it (otherwise it fails).\n    x0 = op.Slice(X, [0], [1], [1])\n    x1 = op.Slice(X, [1], [2], [1])\n    return op.Mul(op.Div(op.Sub(x0, x1), x1), 100)"
      ]
    },
    {
      "cell_type": "markdown",
      "metadata": {},
      "source": [
        "This version uses the strict definition of ONNX operators.\nThe code can be more simple if regular python operators are used.\nThey may not be converted into ONNX but an error message\nis raised in that case.\n\n"
      ]
    },
    {
      "cell_type": "code",
      "execution_count": null,
      "metadata": {
        "collapsed": false
      },
      "outputs": [],
      "source": [
        "@onnxscript.script()\ndef calculate_onnxscript(X):\n    # onnxscript must define an opset. We use an identity node\n    # from a specific opset to set it (otherwise it fails).\n    xi = op.Identity(X)\n    x0 = xi[:, :1]\n    x1 = xi[:, 1:]\n    return (x0 - x1) / x1 * 100"
      ]
    },
    {
      "cell_type": "markdown",
      "metadata": {},
      "source": [
        "We can also check that it is equivalent to the python implementation.\n\n"
      ]
    },
    {
      "cell_type": "code",
      "execution_count": null,
      "metadata": {
        "collapsed": false
      },
      "outputs": [],
      "source": [
        "f_expected = calculate_growth(data)[\"c\"].values\nf_got = calculate_onnxscript(data[[\"a\", \"b\"]].values.astype(np.float32))\nassert_allclose(f_expected.ravel(), f_got.ravel(), atol=1e-6)"
      ]
    },
    {
      "cell_type": "markdown",
      "metadata": {},
      "source": [
        "Let's use it in the converter.\n\n"
      ]
    },
    {
      "cell_type": "code",
      "execution_count": null,
      "metadata": {
        "collapsed": false
      },
      "outputs": [],
      "source": [
        "def growth_converter_onnxscript(scope, operator, container):\n    # No need to retrieve the fitted estimator, it is not trained.\n    # op = operator.raw_operator\n    opv = container.target_opset\n\n    # 100 * (x-y)/y  --> 100 * (X[0] - X[1]) / X[1]\n    proto = calculate_onnxscript.to_model_proto()\n    # The function is written with opset 18, it needs to be converted\n    # to the opset required by the user when the conversion starts.\n    proto_version = convert_version(proto, opv)\n    add_onnx_graph(scope, operator, container, proto_version)\n\n\nupdate_registered_converter(\n    GrowthCalculator,\n    \"AliasGrowthCalculator\",\n    growth_shape_calculator,\n    growth_converter_onnxscript,\n)"
      ]
    },
    {
      "cell_type": "markdown",
      "metadata": {},
      "source": [
        "Let's check it works.\n\n"
      ]
    },
    {
      "cell_type": "code",
      "execution_count": null,
      "metadata": {
        "collapsed": false
      },
      "outputs": [],
      "source": [
        "onx = to_onnx(pipe_tr, data[:1], target_opset=18, options={\"zipmap\": False})"
      ]
    },
    {
      "cell_type": "markdown",
      "metadata": {},
      "source": [
        "And again the discrepancies.\n\n"
      ]
    },
    {
      "cell_type": "code",
      "execution_count": null,
      "metadata": {
        "collapsed": false
      },
      "outputs": [],
      "source": [
        "ref = ReferenceEvaluator(onx, verbose=0)\ngot = ref.run(None, feeds)\nassert_allclose(expected[0], got[0])\nassert_allclose(expected[1], got[1])"
      ]
    },
    {
      "cell_type": "markdown",
      "metadata": {},
      "source": [
        "Finally.\n\n"
      ]
    },
    {
      "cell_type": "code",
      "execution_count": null,
      "metadata": {
        "collapsed": false
      },
      "outputs": [],
      "source": [
        "print(\"done.\")"
      ]
    }
  ],
  "metadata": {
    "kernelspec": {
      "display_name": "Python 3",
      "language": "python",
      "name": "python3"
    },
    "language_info": {
      "codemirror_mode": {
        "name": "ipython",
        "version": 3
      },
      "file_extension": ".py",
      "mimetype": "text/x-python",
      "name": "python",
      "nbconvert_exporter": "python",
      "pygments_lexer": "ipython3",
      "version": "3.12.9"
    }
  },
  "nbformat": 4,
  "nbformat_minor": 0
}