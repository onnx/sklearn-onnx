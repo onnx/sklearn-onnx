{
  "cells": [
    {
      "cell_type": "markdown",
      "metadata": {},
      "source": [
        "\n\n# Convert a pipeline with a CatBoost classifier\n\n.. index:: CatBoost\n\n:epkg:`sklearn-onnx` only converts :epkg:`scikit-learn` models into *ONNX*\nbut many libraries implement :epkg:`scikit-learn` API so that their models\ncan be included in a :epkg:`scikit-learn` pipeline. This example considers\na pipeline including a :epkg:`CatBoost` model. :epkg:`sklearn-onnx` can convert\nthe whole pipeline as long as it knows the converter associated to\na *CatBoostClassifier*. Let's see how to do it.\n\n## Train a CatBoostClassifier\n"
      ]
    },
    {
      "cell_type": "code",
      "execution_count": null,
      "metadata": {
        "collapsed": false
      },
      "outputs": [],
      "source": [
        "import numpy\nfrom onnx.helper import get_attribute_value\nfrom sklearn.datasets import load_iris\nfrom sklearn.pipeline import Pipeline\nfrom sklearn.preprocessing import StandardScaler\nimport onnxruntime as rt\nfrom skl2onnx import convert_sklearn, update_registered_converter\nfrom skl2onnx.common.shape_calculator import (\n    calculate_linear_classifier_output_shapes,\n)\nfrom skl2onnx.common.data_types import (\n    FloatTensorType,\n    Int64TensorType,\n    guess_tensor_type,\n)\nfrom skl2onnx._parse import _apply_zipmap, _get_sklearn_operator_name\nfrom catboost import CatBoostClassifier\nfrom catboost.utils import convert_to_onnx_object\n\ndata = load_iris()\nX = data.data[:, :2]\ny = data.target\n\nind = numpy.arange(X.shape[0])\nnumpy.random.shuffle(ind)\nX = X[ind, :].copy()\ny = y[ind].copy()\n\npipe = Pipeline(\n    [(\"scaler\", StandardScaler()), (\"lgbm\", CatBoostClassifier(n_estimators=3))]\n)\npipe.fit(X, y)"
      ]
    },
    {
      "cell_type": "markdown",
      "metadata": {},
      "source": [
        "## Register the converter for CatBoostClassifier\n\nThe model has no converter implemented in sklearn-onnx.\nWe need to register the one coming from *CatBoost* itself.\nHowever, the converter does not follow sklearn-onnx design and\nneeds to be wrapped.\n\n"
      ]
    },
    {
      "cell_type": "code",
      "execution_count": null,
      "metadata": {
        "collapsed": false
      },
      "outputs": [],
      "source": [
        "def skl2onnx_parser_castboost_classifier(scope, model, inputs, custom_parsers=None):\n    options = scope.get_options(model, dict(zipmap=True))\n    no_zipmap = isinstance(options[\"zipmap\"], bool) and not options[\"zipmap\"]\n\n    alias = _get_sklearn_operator_name(type(model))\n    this_operator = scope.declare_local_operator(alias, model)\n    this_operator.inputs = inputs\n\n    label_variable = scope.declare_local_variable(\"label\", Int64TensorType())\n    prob_dtype = guess_tensor_type(inputs[0].type)\n    probability_tensor_variable = scope.declare_local_variable(\n        \"probabilities\", prob_dtype\n    )\n    this_operator.outputs.append(label_variable)\n    this_operator.outputs.append(probability_tensor_variable)\n    probability_tensor = this_operator.outputs\n\n    if no_zipmap:\n        return probability_tensor\n\n    return _apply_zipmap(\n        options[\"zipmap\"], scope, model, inputs[0].type, probability_tensor\n    )\n\n\ndef skl2onnx_convert_catboost(scope, operator, container):\n    \"\"\"\n    CatBoost returns an ONNX graph with a single node.\n    This function adds it to the main graph.\n    \"\"\"\n    onx = convert_to_onnx_object(operator.raw_operator)\n    opsets = {d.domain: d.version for d in onx.opset_import}\n    if \"\" in opsets and opsets[\"\"] >= container.target_opset:\n        raise RuntimeError(\"CatBoost uses an opset more recent than the target one.\")\n    if len(onx.graph.initializer) > 0 or len(onx.graph.sparse_initializer) > 0:\n        raise NotImplementedError(\n            \"CatBoost returns a model initializers. This option is not implemented yet.\"\n        )\n    if (\n        len(onx.graph.node) not in (1, 2)\n        or not onx.graph.node[0].op_type.startswith(\"TreeEnsemble\")\n        or (len(onx.graph.node) == 2 and onx.graph.node[1].op_type != \"ZipMap\")\n    ):\n        types = \", \".join(map(lambda n: n.op_type, onx.graph.node))\n        raise NotImplementedError(\n            f\"CatBoost returns {len(onx.graph.node)} != 1 (types={types}). \"\n            f\"This option is not implemented yet.\"\n        )\n    node = onx.graph.node[0]\n    atts = {}\n    for att in node.attribute:\n        atts[att.name] = get_attribute_value(att)\n    container.add_node(\n        node.op_type,\n        [operator.inputs[0].full_name],\n        [operator.outputs[0].full_name, operator.outputs[1].full_name],\n        op_domain=node.domain,\n        op_version=opsets.get(node.domain, None),\n        **atts,\n    )\n\n\nupdate_registered_converter(\n    CatBoostClassifier,\n    \"CatBoostCatBoostClassifier\",\n    calculate_linear_classifier_output_shapes,\n    skl2onnx_convert_catboost,\n    parser=skl2onnx_parser_castboost_classifier,\n    options={\"nocl\": [True, False], \"zipmap\": [True, False, \"columns\"]},\n)"
      ]
    },
    {
      "cell_type": "markdown",
      "metadata": {},
      "source": [
        "## Convert\n\n"
      ]
    },
    {
      "cell_type": "code",
      "execution_count": null,
      "metadata": {
        "collapsed": false
      },
      "outputs": [],
      "source": [
        "model_onnx = convert_sklearn(\n    pipe,\n    \"pipeline_catboost\",\n    [(\"input\", FloatTensorType([None, 2]))],\n    target_opset={\"\": 12, \"ai.onnx.ml\": 2},\n)\n\n# And save.\nwith open(\"pipeline_catboost.onnx\", \"wb\") as f:\n    f.write(model_onnx.SerializeToString())"
      ]
    },
    {
      "cell_type": "markdown",
      "metadata": {},
      "source": [
        "## Compare the predictions\n\nPredictions with CatBoost.\n\n"
      ]
    },
    {
      "cell_type": "code",
      "execution_count": null,
      "metadata": {
        "collapsed": false
      },
      "outputs": [],
      "source": [
        "print(\"predict\", pipe.predict(X[:5]))\nprint(\"predict_proba\", pipe.predict_proba(X[:1]))"
      ]
    },
    {
      "cell_type": "markdown",
      "metadata": {},
      "source": [
        "Predictions with onnxruntime.\n\n"
      ]
    },
    {
      "cell_type": "code",
      "execution_count": null,
      "metadata": {
        "collapsed": false
      },
      "outputs": [],
      "source": [
        "sess = rt.InferenceSession(\"pipeline_catboost.onnx\", providers=[\"CPUExecutionProvider\"])\n\npred_onx = sess.run(None, {\"input\": X[:5].astype(numpy.float32)})\nprint(\"predict\", pred_onx[0])\nprint(\"predict_proba\", pred_onx[1][:1])"
      ]
    }
  ],
  "metadata": {
    "kernelspec": {
      "display_name": "Python 3",
      "language": "python",
      "name": "python3"
    },
    "language_info": {
      "codemirror_mode": {
        "name": "ipython",
        "version": 3
      },
      "file_extension": ".py",
      "mimetype": "text/x-python",
      "name": "python",
      "nbconvert_exporter": "python",
      "pygments_lexer": "ipython3",
      "version": "3.12.9"
    }
  },
  "nbformat": 4,
  "nbformat_minor": 0
}