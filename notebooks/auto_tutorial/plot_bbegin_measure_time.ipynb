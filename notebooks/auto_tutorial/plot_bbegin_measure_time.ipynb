{
  "cells": [
    {
      "cell_type": "code",
      "execution_count": null,
      "metadata": {
        "collapsed": false
      },
      "outputs": [],
      "source": [
        "%matplotlib inline"
      ]
    },
    {
      "cell_type": "markdown",
      "metadata": {},
      "source": [
        "\n# Benchmark ONNX conversion\n\n.. index:: benchmark\n\nExample `l-simple-deploy-1` converts a simple model.\nThis example takes a similar example but on random data\nand compares the processing time required by each option\nto compute predictions.\n\n\n## Training a pipeline\n"
      ]
    },
    {
      "cell_type": "code",
      "execution_count": null,
      "metadata": {
        "collapsed": false
      },
      "outputs": [],
      "source": [
        "import numpy\nfrom pandas import DataFrame\nfrom tqdm import tqdm\nfrom sklearn import config_context\nfrom sklearn.datasets import make_regression\nfrom sklearn.ensemble import (\n    GradientBoostingRegressor, RandomForestRegressor,\n    VotingRegressor)\nfrom sklearn.linear_model import LinearRegression\nfrom sklearn.model_selection import train_test_split\nfrom mlprodict.onnxrt import OnnxInference\nfrom onnxruntime import InferenceSession\nfrom skl2onnx import to_onnx\nfrom skl2onnx.tutorial import measure_time\n\n\nN = 11000\nX, y = make_regression(N, n_features=10)\nX_train, X_test, y_train, y_test = train_test_split(\n    X, y, train_size=0.01)\nprint(\"Train shape\", X_train.shape)\nprint(\"Test shape\", X_test.shape)\n\nreg1 = GradientBoostingRegressor(random_state=1)\nreg2 = RandomForestRegressor(random_state=1)\nreg3 = LinearRegression()\nereg = VotingRegressor([('gb', reg1), ('rf', reg2), ('lr', reg3)])\nereg.fit(X_train, y_train)"
      ]
    },
    {
      "cell_type": "markdown",
      "metadata": {},
      "source": [
        "## Measure the processing time\n\nWe use function :func:`skl2onnx.tutorial.measure_time`.\nThe page about `assume_finite <https://scikit-learn.org/\nstable/modules/generated/sklearn.config_context.html>`_\nmay be useful if you need to optimize the prediction.\nWe measure the processing time per observation whether\nor not an observation belongs to a batch or is a single one.\n\n"
      ]
    },
    {
      "cell_type": "code",
      "execution_count": null,
      "metadata": {
        "collapsed": false
      },
      "outputs": [],
      "source": [
        "sizes = [(1, 50), (10, 50), (1000, 10), (10000, 5)]\n\nwith config_context(assume_finite=True):\n    obs = []\n    for batch_size, repeat in tqdm(sizes):\n        context = {\"ereg\": ereg, 'X': X_test[:batch_size]}\n        mt = measure_time(\n            \"ereg.predict(X)\", context, div_by_number=True,\n            number=10, repeat=repeat)\n        mt['size'] = context['X'].shape[0]\n        mt['mean_obs'] = mt['average'] / mt['size']\n        obs.append(mt)\n\ndf_skl = DataFrame(obs)\ndf_skl"
      ]
    },
    {
      "cell_type": "markdown",
      "metadata": {},
      "source": [
        "Graphe.\n\n"
      ]
    },
    {
      "cell_type": "code",
      "execution_count": null,
      "metadata": {
        "collapsed": false
      },
      "outputs": [],
      "source": [
        "df_skl.set_index('size')[['mean_obs']].plot(\n    title=\"scikit-learn\", logx=True, logy=True)"
      ]
    },
    {
      "cell_type": "markdown",
      "metadata": {},
      "source": [
        "## ONNX runtime\n\nThe same is done with the two ONNX runtime\navailable.\n\n"
      ]
    },
    {
      "cell_type": "code",
      "execution_count": null,
      "metadata": {
        "collapsed": false
      },
      "outputs": [],
      "source": [
        "onx = to_onnx(ereg, X_train[:1].astype(numpy.float32))\nsess = InferenceSession(onx.SerializeToString())\noinf = OnnxInference(onx, runtime=\"python_compiled\")\n\nobs = []\nfor batch_size, repeat in tqdm(sizes):\n\n    # scikit-learn\n    context = {\"ereg\": ereg, 'X': X_test[:batch_size].astype(numpy.float32)}\n    mt = measure_time(\n        \"ereg.predict(X)\", context, div_by_number=True,\n        number=10, repeat=repeat)\n    mt['size'] = context['X'].shape[0]\n    mt['skl'] = mt['average'] / mt['size']\n\n    # onnxruntime\n    context = {\"sess\": sess, 'X': X_test[:batch_size].astype(numpy.float32)}\n    mt2 = measure_time(\n        \"sess.run(None, {'X': X})[0]\", context, div_by_number=True,\n        number=10, repeat=repeat)\n    mt['ort'] = mt2['average'] / mt['size']\n\n    # mlprodict\n    context = {\"oinf\": oinf, 'X': X_test[:batch_size].astype(numpy.float32)}\n    mt2 = measure_time(\n        \"oinf.run({'X': X})['variable']\", context, div_by_number=True,\n        number=10, repeat=repeat)\n    mt['pyrt'] = mt2['average'] / mt['size']\n\n    # end\n    obs.append(mt)\n\n\ndf = DataFrame(obs)\ndf"
      ]
    },
    {
      "cell_type": "markdown",
      "metadata": {},
      "source": [
        "Graph.\n\n"
      ]
    },
    {
      "cell_type": "code",
      "execution_count": null,
      "metadata": {
        "collapsed": false
      },
      "outputs": [],
      "source": [
        "df.set_index('size')[['skl', 'ort', 'pyrt']].plot(\n    title=\"Average prediction time per runtime\",\n    logx=True, logy=True)"
      ]
    },
    {
      "cell_type": "markdown",
      "metadata": {},
      "source": [
        ":epkg:`ONNX` runtimes are much faster than :epkg:`scikit-learn`\nto predict one observation. :epkg:`scikit-learn` is optimized\nfor training, for batch prediction. That explains why\n:epkg:`scikit-learn` and ONNX runtimes seem to converge\nfor big batches. They use similar implementation,\nparallelization and languages (:epkg:`C++`, :epkg:`openmp`).\n\n"
      ]
    }
  ],
  "metadata": {
    "kernelspec": {
      "display_name": "Python 3",
      "language": "python",
      "name": "python3"
    },
    "language_info": {
      "codemirror_mode": {
        "name": "ipython",
        "version": 3
      },
      "file_extension": ".py",
      "mimetype": "text/x-python",
      "name": "python",
      "nbconvert_exporter": "python",
      "pygments_lexer": "ipython3",
      "version": "3.9.5"
    }
  },
  "nbformat": 4,
  "nbformat_minor": 0
}