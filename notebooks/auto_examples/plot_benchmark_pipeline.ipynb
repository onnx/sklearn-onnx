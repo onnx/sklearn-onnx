{
  "cells": [
    {
      "cell_type": "code",
      "execution_count": null,
      "metadata": {
        "collapsed": false
      },
      "outputs": [],
      "source": [
        "%matplotlib inline"
      ]
    },
    {
      "cell_type": "markdown",
      "metadata": {},
      "source": [
        "\n# Benchmark a pipeline\n\nThe following example checks up on every step in a pipeline,\ncompares and benchmarks the predictions.\n\n## Create a pipeline\n\nWe reuse the pipeline implemented in example\n`Pipelining: chaining a PCA and a logistic regression\n<https://scikit-learn.org/stable/auto_examples/compose/plot_digits_pipe.html>`_.\nThere is one change because\n`ONNX-ML Imputer <https://github.com/onnx/onnx/blob/master/\ndocs/Operators-ml.md#ai.onnx.ml.Imputer>`_\ndoes not handle string type. This cannot be part of the final ONNX pipeline\nand must be removed. Look for comment starting with ``---`` below.\n"
      ]
    },
    {
      "cell_type": "code",
      "execution_count": null,
      "metadata": {
        "collapsed": false
      },
      "outputs": [],
      "source": [
        "import skl2onnx\nimport onnx\nimport sklearn\nimport numpy\nfrom skl2onnx.helpers import collect_intermediate_steps\nfrom timeit import timeit\nfrom skl2onnx.helpers import compare_objects\nimport onnxruntime as rt\nfrom onnxconverter_common.data_types import FloatTensorType\nfrom skl2onnx import convert_sklearn\nimport numpy as np\nimport pandas as pd\n\nfrom sklearn import datasets\nfrom sklearn.decomposition import PCA\nfrom sklearn.linear_model import LogisticRegression\nfrom sklearn.pipeline import Pipeline\n\nlogistic = LogisticRegression()\npca = PCA()\npipe = Pipeline(steps=[('pca', pca), ('logistic', logistic)])\n\ndigits = datasets.load_digits()\nX_digits = digits.data[:1000]\ny_digits = digits.target[:1000]\n\npipe.fit(X_digits, y_digits)"
      ]
    },
    {
      "cell_type": "markdown",
      "metadata": {},
      "source": [
        "## Conversion to ONNX\n\n"
      ]
    },
    {
      "cell_type": "code",
      "execution_count": null,
      "metadata": {
        "collapsed": false
      },
      "outputs": [],
      "source": [
        "initial_types = [('input', FloatTensorType((None, X_digits.shape[1])))]\nmodel_onnx = convert_sklearn(pipe, initial_types=initial_types,\n                             target_opset=12)\n\nsess = rt.InferenceSession(model_onnx.SerializeToString())\nprint(\"skl predict_proba\")\nprint(pipe.predict_proba(X_digits[:2]))\nonx_pred = sess.run(None, {'input': X_digits[:2].astype(np.float32)})[1]\ndf = pd.DataFrame(onx_pred)\nprint(\"onnx predict_proba\")\nprint(df.values)"
      ]
    },
    {
      "cell_type": "markdown",
      "metadata": {},
      "source": [
        "## Comparing outputs\n\n"
      ]
    },
    {
      "cell_type": "code",
      "execution_count": null,
      "metadata": {
        "collapsed": false
      },
      "outputs": [],
      "source": [
        "compare_objects(pipe.predict_proba(X_digits[:2]), onx_pred)\n# No exception so they are the same."
      ]
    },
    {
      "cell_type": "markdown",
      "metadata": {},
      "source": [
        "## Benchmarks\n\n"
      ]
    },
    {
      "cell_type": "code",
      "execution_count": null,
      "metadata": {
        "collapsed": false
      },
      "outputs": [],
      "source": [
        "print(\"scikit-learn\")\nprint(timeit(\"pipe.predict_proba(X_digits[:1])\",\n             number=10000, globals=globals()))\nprint(\"onnxruntime\")\nprint(timeit(\"sess.run(None, {'input': X_digits[:1].astype(np.float32)})[1]\",\n             number=10000, globals=globals()))"
      ]
    },
    {
      "cell_type": "markdown",
      "metadata": {},
      "source": [
        "## Intermediate steps\n\nLet's imagine the final output is wrong and we need\nto look into each component of the pipeline which one\nis failing. The following method modifies the scikit-learn\npipeline to steal the intermediate outputs and produces\nan smaller ONNX graph for every operator.\n\n"
      ]
    },
    {
      "cell_type": "code",
      "execution_count": null,
      "metadata": {
        "collapsed": false
      },
      "outputs": [],
      "source": [
        "steps = collect_intermediate_steps(\n    pipe, \"pipeline\", initial_types)\n\nassert len(steps) == 2\n\npipe.predict_proba(X_digits[:2])\n\nfor i, step in enumerate(steps):\n    onnx_step = step['onnx_step']\n    sess = rt.InferenceSession(onnx_step.SerializeToString())\n    onnx_outputs = sess.run(None, {'input': X_digits[:2].astype(np.float32)})\n    skl_outputs = step['model']._debug.outputs\n    if 'transform' in skl_outputs:\n        compare_objects(skl_outputs['transform'], onnx_outputs[0])\n        print(\"benchmark\", step['model'].__class__)\n        print(\"scikit-learn\")\n        print(timeit(\"step['model'].transform(X_digits[:1])\",\n                     number=10000, globals=globals()))\n    else:\n        compare_objects(skl_outputs['predict_proba'], onnx_outputs[1])\n        print(\"benchmark\", step['model'].__class__)\n        print(\"scikit-learn\")\n        print(timeit(\"step['model'].predict_proba(X_digits[:1])\",\n                     number=10000, globals=globals()))\n    print(\"onnxruntime\")\n    print(timeit(\"sess.run(None, {'input': X_digits[:1].astype(np.float32)})\",\n                 number=10000, globals=globals()))"
      ]
    },
    {
      "cell_type": "markdown",
      "metadata": {},
      "source": [
        "**Versions used for this example**\n\n"
      ]
    },
    {
      "cell_type": "code",
      "execution_count": null,
      "metadata": {
        "collapsed": false
      },
      "outputs": [],
      "source": [
        "print(\"numpy:\", numpy.__version__)\nprint(\"scikit-learn:\", sklearn.__version__)\nprint(\"onnx: \", onnx.__version__)\nprint(\"onnxruntime: \", rt.__version__)\nprint(\"skl2onnx: \", skl2onnx.__version__)"
      ]
    }
  ],
  "metadata": {
    "kernelspec": {
      "display_name": "Python 3",
      "language": "python",
      "name": "python3"
    },
    "language_info": {
      "codemirror_mode": {
        "name": "ipython",
        "version": 3
      },
      "file_extension": ".py",
      "mimetype": "text/x-python",
      "name": "python",
      "nbconvert_exporter": "python",
      "pygments_lexer": "ipython3",
      "version": "3.9.5"
    }
  },
  "nbformat": 4,
  "nbformat_minor": 0
}